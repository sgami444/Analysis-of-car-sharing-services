{
  "nbformat": 4,
  "nbformat_minor": 0,
  "metadata": {
    "colab": {
      "provenance": []
    },
    "kernelspec": {
      "name": "python3",
      "display_name": "Python 3"
    },
    "language_info": {
      "name": "python"
    }
  },
  "cells": [
    {
      "cell_type": "markdown",
      "source": [
        "To use apache spark on python, we use pyspark. Run the following command to install pyspark on google colab. (If using jupyter notebook, make sure to create a new environment before using !pip install pyspark command)"
      ],
      "metadata": {
        "id": "mw-FW9mtFOU1"
      }
    },
    {
      "cell_type": "code",
      "source": [
        "pip install geopandas"
      ],
      "metadata": {
        "colab": {
          "base_uri": "https://localhost:8080/"
        },
        "id": "pbWeOZGbjPXC",
        "outputId": "f5a49fa2-a961-4279-ef14-3fe2d479031e"
      },
      "execution_count": null,
      "outputs": [
        {
          "output_type": "stream",
          "name": "stdout",
          "text": [
            "Looking in indexes: https://pypi.org/simple, https://us-python.pkg.dev/colab-wheels/public/simple/\n",
            "Collecting geopandas\n",
            "  Downloading geopandas-0.10.2-py2.py3-none-any.whl (1.0 MB)\n",
            "\u001b[K     |████████████████████████████████| 1.0 MB 5.8 MB/s \n",
            "\u001b[?25hCollecting fiona>=1.8\n",
            "  Downloading Fiona-1.8.22-cp37-cp37m-manylinux2014_x86_64.whl (16.7 MB)\n",
            "\u001b[K     |████████████████████████████████| 16.7 MB 46.9 MB/s \n",
            "\u001b[?25hRequirement already satisfied: pandas>=0.25.0 in /usr/local/lib/python3.7/dist-packages (from geopandas) (1.3.5)\n",
            "Requirement already satisfied: shapely>=1.6 in /usr/local/lib/python3.7/dist-packages (from geopandas) (1.8.5.post1)\n",
            "Collecting pyproj>=2.2.0\n",
            "  Downloading pyproj-3.2.1-cp37-cp37m-manylinux2010_x86_64.whl (6.3 MB)\n",
            "\u001b[K     |████████████████████████████████| 6.3 MB 36.0 MB/s \n",
            "\u001b[?25hRequirement already satisfied: certifi in /usr/local/lib/python3.7/dist-packages (from fiona>=1.8->geopandas) (2022.9.24)\n",
            "Requirement already satisfied: six>=1.7 in /usr/local/lib/python3.7/dist-packages (from fiona>=1.8->geopandas) (1.15.0)\n",
            "Collecting munch\n",
            "  Downloading munch-2.5.0-py2.py3-none-any.whl (10 kB)\n",
            "Requirement already satisfied: attrs>=17 in /usr/local/lib/python3.7/dist-packages (from fiona>=1.8->geopandas) (22.1.0)\n",
            "Collecting cligj>=0.5\n",
            "  Downloading cligj-0.7.2-py3-none-any.whl (7.1 kB)\n",
            "Requirement already satisfied: click>=4.0 in /usr/local/lib/python3.7/dist-packages (from fiona>=1.8->geopandas) (7.1.2)\n",
            "Collecting click-plugins>=1.0\n",
            "  Downloading click_plugins-1.1.1-py2.py3-none-any.whl (7.5 kB)\n",
            "Requirement already satisfied: setuptools in /usr/local/lib/python3.7/dist-packages (from fiona>=1.8->geopandas) (57.4.0)\n",
            "Requirement already satisfied: pytz>=2017.3 in /usr/local/lib/python3.7/dist-packages (from pandas>=0.25.0->geopandas) (2022.6)\n",
            "Requirement already satisfied: python-dateutil>=2.7.3 in /usr/local/lib/python3.7/dist-packages (from pandas>=0.25.0->geopandas) (2.8.2)\n",
            "Requirement already satisfied: numpy>=1.17.3 in /usr/local/lib/python3.7/dist-packages (from pandas>=0.25.0->geopandas) (1.21.6)\n",
            "Installing collected packages: munch, cligj, click-plugins, pyproj, fiona, geopandas\n",
            "Successfully installed click-plugins-1.1.1 cligj-0.7.2 fiona-1.8.22 geopandas-0.10.2 munch-2.5.0 pyproj-3.2.1\n"
          ]
        }
      ]
    },
    {
      "cell_type": "code",
      "source": [
        "import geopandas as gpd"
      ],
      "metadata": {
        "id": "xhR_uiiujT1v"
      },
      "execution_count": null,
      "outputs": []
    },
    {
      "cell_type": "code",
      "execution_count": null,
      "metadata": {
        "colab": {
          "base_uri": "https://localhost:8080/"
        },
        "id": "vnsSc8r9ErI6",
        "outputId": "ef4bd9b3-2ae2-415e-cbfc-c2aa50719c4f"
      },
      "outputs": [
        {
          "output_type": "stream",
          "name": "stdout",
          "text": [
            "Looking in indexes: https://pypi.org/simple, https://us-python.pkg.dev/colab-wheels/public/simple/\n",
            "Collecting pyspark\n",
            "  Downloading pyspark-3.3.1.tar.gz (281.4 MB)\n",
            "\u001b[K     |████████████████████████████████| 281.4 MB 41 kB/s \n",
            "\u001b[?25hCollecting py4j==0.10.9.5\n",
            "  Downloading py4j-0.10.9.5-py2.py3-none-any.whl (199 kB)\n",
            "\u001b[K     |████████████████████████████████| 199 kB 42.5 MB/s \n",
            "\u001b[?25hBuilding wheels for collected packages: pyspark\n",
            "  Building wheel for pyspark (setup.py) ... \u001b[?25l\u001b[?25hdone\n",
            "  Created wheel for pyspark: filename=pyspark-3.3.1-py2.py3-none-any.whl size=281845512 sha256=99a5cf676cb7796bd7d294f5f2ff53eddb5079907eacdcf07446225600421c4f\n",
            "  Stored in directory: /root/.cache/pip/wheels/42/59/f5/79a5bf931714dcd201b26025347785f087370a10a3329a899c\n",
            "Successfully built pyspark\n",
            "Installing collected packages: py4j, pyspark\n",
            "Successfully installed py4j-0.10.9.5 pyspark-3.3.1\n"
          ]
        }
      ],
      "source": [
        "pip install pyspark"
      ]
    },
    {
      "cell_type": "code",
      "source": [
        "import pyspark\n",
        "import pandas as pd"
      ],
      "metadata": {
        "id": "1VGOKCFNFEY_"
      },
      "execution_count": null,
      "outputs": []
    },
    {
      "cell_type": "markdown",
      "source": [
        "Lets read the csv file using pandas \n",
        "I have the csv file stored in my google drive, so we will mount the drive in colab and get location from there"
      ],
      "metadata": {
        "id": "fkmUKT57F41i"
      }
    },
    {
      "cell_type": "code",
      "source": [
        "DataFrame = pd.read_csv('/content/drive/MyDrive/BigDataXspatial/Original_Dataset.csv')"
      ],
      "metadata": {
        "id": "lo9da16UF24Q"
      },
      "execution_count": null,
      "outputs": []
    },
    {
      "cell_type": "code",
      "source": [
        "DataFrame = DataFrame.sample(100000).reset_index()"
      ],
      "metadata": {
        "id": "FlEq2Q0GHESW"
      },
      "execution_count": null,
      "outputs": []
    },
    {
      "cell_type": "markdown",
      "source": [
        "##Trial stuff"
      ],
      "metadata": {
        "id": "_xCrEXePYGG4"
      }
    },
    {
      "cell_type": "code",
      "source": [
        "pip install geopandas"
      ],
      "metadata": {
        "id": "sfYPxnYDZqo6"
      },
      "execution_count": null,
      "outputs": []
    },
    {
      "cell_type": "code",
      "source": [
        "DataFrame.head()"
      ],
      "metadata": {
        "colab": {
          "base_uri": "https://localhost:8080/",
          "height": 206
        },
        "id": "NpQPFcRzcF-J",
        "outputId": "3c282163-926f-4d86-d391-e2f2b5ad458f"
      },
      "execution_count": null,
      "outputs": [
        {
          "output_type": "execute_result",
          "data": {
            "text/plain": [
              "      index   latitude  longitude  total_cars  cars_list  \\\n",
              "0   5976043  32.096490  34.794880           1      [170]   \n",
              "1  11123533  32.127629  34.831681           1       [30]   \n",
              "2    804150  32.110910  34.836470           2  [29, 168]   \n",
              "3  16519706  32.053980  34.805520           1      [132]   \n",
              "4  11690984  32.079221  34.788357           0         []   \n",
              "\n",
              "                 timestamp                   geometry  \n",
              "0  2020-02-22 06:03:02 UTC  POINT (34.79488 32.09649)  \n",
              "1  2018-10-10 15:25:57 UTC  POINT (34.83168 32.12763)  \n",
              "2  2019-11-09 10:39:02 UTC  POINT (34.83647 32.11091)  \n",
              "3  2019-12-13 21:42:02 UTC  POINT (34.80552 32.05398)  \n",
              "4  2019-12-09 18:54:02 UTC  POINT (34.78836 32.07922)  "
            ],
            "text/html": [
              "\n",
              "  <div id=\"df-7fdab305-ca28-4b6b-9e17-b95e35b49f01\">\n",
              "    <div class=\"colab-df-container\">\n",
              "      <div>\n",
              "<style scoped>\n",
              "    .dataframe tbody tr th:only-of-type {\n",
              "        vertical-align: middle;\n",
              "    }\n",
              "\n",
              "    .dataframe tbody tr th {\n",
              "        vertical-align: top;\n",
              "    }\n",
              "\n",
              "    .dataframe thead th {\n",
              "        text-align: right;\n",
              "    }\n",
              "</style>\n",
              "<table border=\"1\" class=\"dataframe\">\n",
              "  <thead>\n",
              "    <tr style=\"text-align: right;\">\n",
              "      <th></th>\n",
              "      <th>index</th>\n",
              "      <th>latitude</th>\n",
              "      <th>longitude</th>\n",
              "      <th>total_cars</th>\n",
              "      <th>cars_list</th>\n",
              "      <th>timestamp</th>\n",
              "      <th>geometry</th>\n",
              "    </tr>\n",
              "  </thead>\n",
              "  <tbody>\n",
              "    <tr>\n",
              "      <th>0</th>\n",
              "      <td>5976043</td>\n",
              "      <td>32.096490</td>\n",
              "      <td>34.794880</td>\n",
              "      <td>1</td>\n",
              "      <td>[170]</td>\n",
              "      <td>2020-02-22 06:03:02 UTC</td>\n",
              "      <td>POINT (34.79488 32.09649)</td>\n",
              "    </tr>\n",
              "    <tr>\n",
              "      <th>1</th>\n",
              "      <td>11123533</td>\n",
              "      <td>32.127629</td>\n",
              "      <td>34.831681</td>\n",
              "      <td>1</td>\n",
              "      <td>[30]</td>\n",
              "      <td>2018-10-10 15:25:57 UTC</td>\n",
              "      <td>POINT (34.83168 32.12763)</td>\n",
              "    </tr>\n",
              "    <tr>\n",
              "      <th>2</th>\n",
              "      <td>804150</td>\n",
              "      <td>32.110910</td>\n",
              "      <td>34.836470</td>\n",
              "      <td>2</td>\n",
              "      <td>[29, 168]</td>\n",
              "      <td>2019-11-09 10:39:02 UTC</td>\n",
              "      <td>POINT (34.83647 32.11091)</td>\n",
              "    </tr>\n",
              "    <tr>\n",
              "      <th>3</th>\n",
              "      <td>16519706</td>\n",
              "      <td>32.053980</td>\n",
              "      <td>34.805520</td>\n",
              "      <td>1</td>\n",
              "      <td>[132]</td>\n",
              "      <td>2019-12-13 21:42:02 UTC</td>\n",
              "      <td>POINT (34.80552 32.05398)</td>\n",
              "    </tr>\n",
              "    <tr>\n",
              "      <th>4</th>\n",
              "      <td>11690984</td>\n",
              "      <td>32.079221</td>\n",
              "      <td>34.788357</td>\n",
              "      <td>0</td>\n",
              "      <td>[]</td>\n",
              "      <td>2019-12-09 18:54:02 UTC</td>\n",
              "      <td>POINT (34.78836 32.07922)</td>\n",
              "    </tr>\n",
              "  </tbody>\n",
              "</table>\n",
              "</div>\n",
              "      <button class=\"colab-df-convert\" onclick=\"convertToInteractive('df-7fdab305-ca28-4b6b-9e17-b95e35b49f01')\"\n",
              "              title=\"Convert this dataframe to an interactive table.\"\n",
              "              style=\"display:none;\">\n",
              "        \n",
              "  <svg xmlns=\"http://www.w3.org/2000/svg\" height=\"24px\"viewBox=\"0 0 24 24\"\n",
              "       width=\"24px\">\n",
              "    <path d=\"M0 0h24v24H0V0z\" fill=\"none\"/>\n",
              "    <path d=\"M18.56 5.44l.94 2.06.94-2.06 2.06-.94-2.06-.94-.94-2.06-.94 2.06-2.06.94zm-11 1L8.5 8.5l.94-2.06 2.06-.94-2.06-.94L8.5 2.5l-.94 2.06-2.06.94zm10 10l.94 2.06.94-2.06 2.06-.94-2.06-.94-.94-2.06-.94 2.06-2.06.94z\"/><path d=\"M17.41 7.96l-1.37-1.37c-.4-.4-.92-.59-1.43-.59-.52 0-1.04.2-1.43.59L10.3 9.45l-7.72 7.72c-.78.78-.78 2.05 0 2.83L4 21.41c.39.39.9.59 1.41.59.51 0 1.02-.2 1.41-.59l7.78-7.78 2.81-2.81c.8-.78.8-2.07 0-2.86zM5.41 20L4 18.59l7.72-7.72 1.47 1.35L5.41 20z\"/>\n",
              "  </svg>\n",
              "      </button>\n",
              "      \n",
              "  <style>\n",
              "    .colab-df-container {\n",
              "      display:flex;\n",
              "      flex-wrap:wrap;\n",
              "      gap: 12px;\n",
              "    }\n",
              "\n",
              "    .colab-df-convert {\n",
              "      background-color: #E8F0FE;\n",
              "      border: none;\n",
              "      border-radius: 50%;\n",
              "      cursor: pointer;\n",
              "      display: none;\n",
              "      fill: #1967D2;\n",
              "      height: 32px;\n",
              "      padding: 0 0 0 0;\n",
              "      width: 32px;\n",
              "    }\n",
              "\n",
              "    .colab-df-convert:hover {\n",
              "      background-color: #E2EBFA;\n",
              "      box-shadow: 0px 1px 2px rgba(60, 64, 67, 0.3), 0px 1px 3px 1px rgba(60, 64, 67, 0.15);\n",
              "      fill: #174EA6;\n",
              "    }\n",
              "\n",
              "    [theme=dark] .colab-df-convert {\n",
              "      background-color: #3B4455;\n",
              "      fill: #D2E3FC;\n",
              "    }\n",
              "\n",
              "    [theme=dark] .colab-df-convert:hover {\n",
              "      background-color: #434B5C;\n",
              "      box-shadow: 0px 1px 3px 1px rgba(0, 0, 0, 0.15);\n",
              "      filter: drop-shadow(0px 1px 2px rgba(0, 0, 0, 0.3));\n",
              "      fill: #FFFFFF;\n",
              "    }\n",
              "  </style>\n",
              "\n",
              "      <script>\n",
              "        const buttonEl =\n",
              "          document.querySelector('#df-7fdab305-ca28-4b6b-9e17-b95e35b49f01 button.colab-df-convert');\n",
              "        buttonEl.style.display =\n",
              "          google.colab.kernel.accessAllowed ? 'block' : 'none';\n",
              "\n",
              "        async function convertToInteractive(key) {\n",
              "          const element = document.querySelector('#df-7fdab305-ca28-4b6b-9e17-b95e35b49f01');\n",
              "          const dataTable =\n",
              "            await google.colab.kernel.invokeFunction('convertToInteractive',\n",
              "                                                     [key], {});\n",
              "          if (!dataTable) return;\n",
              "\n",
              "          const docLinkHtml = 'Like what you see? Visit the ' +\n",
              "            '<a target=\"_blank\" href=https://colab.research.google.com/notebooks/data_table.ipynb>data table notebook</a>'\n",
              "            + ' to learn more about interactive tables.';\n",
              "          element.innerHTML = '';\n",
              "          dataTable['output_type'] = 'display_data';\n",
              "          await google.colab.output.renderOutput(dataTable, element);\n",
              "          const docLink = document.createElement('div');\n",
              "          docLink.innerHTML = docLinkHtml;\n",
              "          element.appendChild(docLink);\n",
              "        }\n",
              "      </script>\n",
              "    </div>\n",
              "  </div>\n",
              "  "
            ]
          },
          "metadata": {},
          "execution_count": 95
        }
      ]
    },
    {
      "cell_type": "code",
      "source": [
        "import matplotlib.pyplot as plt\n",
        "import geopandas as gpd"
      ],
      "metadata": {
        "id": "0LaToNQPZweL"
      },
      "execution_count": null,
      "outputs": []
    },
    {
      "cell_type": "code",
      "source": [
        "telavivdf = pd.read_csv('/content/drive/MyDrive/BigDataXspatial/tel_aviv_neighborhood.csv')"
      ],
      "metadata": {
        "id": "tuJCyuJfYJHd"
      },
      "execution_count": null,
      "outputs": []
    },
    {
      "cell_type": "code",
      "source": [
        "telavivdf.head()"
      ],
      "metadata": {
        "colab": {
          "base_uri": "https://localhost:8080/",
          "height": 206
        },
        "id": "XwTreHiqb9cy",
        "outputId": "155eb597-b2b6-4bb7-fe6a-eafb975f9e9a"
      },
      "execution_count": null,
      "outputs": [
        {
          "output_type": "execute_result",
          "data": {
            "text/plain": [
              "   oid_shchuna  neighborhood_id    neighborhood_name              date_import  \\\n",
              "0            1                3         Sde Dov area  2015-10-06 08:36:43 UTC   \n",
              "1            2                2        Spring Cliffs  2015-10-06 08:36:43 UTC   \n",
              "2            3                7         Ramat Aviv c  2015-10-06 08:36:43 UTC   \n",
              "3            4               11  Tel aviv university  2015-10-06 08:36:43 UTC   \n",
              "4            5                6           North Star  2015-10-06 08:36:43 UTC   \n",
              "\n",
              "     Shape_Area                                       area_polygon  \n",
              "0  1.307955e+06  POLYGON ((34.788389 32.123656, 34.788383 32.12...  \n",
              "1  1.288925e+06  POLYGON ((34.796243 32.130388, 34.795859 32.12...  \n",
              "2  1.101582e+06  POLYGON ((34.808554 32.128712, 34.808641 32.12...  \n",
              "3  1.459851e+06  POLYGON ((34.802354 32.118062, 34.80239 32.118...  \n",
              "4  4.212298e+05  POLYGON ((34.783522 32.098636, 34.783493 32.09...  "
            ],
            "text/html": [
              "\n",
              "  <div id=\"df-da4f5d90-b5cd-44f0-9b17-2cd2ff80b9a0\">\n",
              "    <div class=\"colab-df-container\">\n",
              "      <div>\n",
              "<style scoped>\n",
              "    .dataframe tbody tr th:only-of-type {\n",
              "        vertical-align: middle;\n",
              "    }\n",
              "\n",
              "    .dataframe tbody tr th {\n",
              "        vertical-align: top;\n",
              "    }\n",
              "\n",
              "    .dataframe thead th {\n",
              "        text-align: right;\n",
              "    }\n",
              "</style>\n",
              "<table border=\"1\" class=\"dataframe\">\n",
              "  <thead>\n",
              "    <tr style=\"text-align: right;\">\n",
              "      <th></th>\n",
              "      <th>oid_shchuna</th>\n",
              "      <th>neighborhood_id</th>\n",
              "      <th>neighborhood_name</th>\n",
              "      <th>date_import</th>\n",
              "      <th>Shape_Area</th>\n",
              "      <th>area_polygon</th>\n",
              "    </tr>\n",
              "  </thead>\n",
              "  <tbody>\n",
              "    <tr>\n",
              "      <th>0</th>\n",
              "      <td>1</td>\n",
              "      <td>3</td>\n",
              "      <td>Sde Dov area</td>\n",
              "      <td>2015-10-06 08:36:43 UTC</td>\n",
              "      <td>1.307955e+06</td>\n",
              "      <td>POLYGON ((34.788389 32.123656, 34.788383 32.12...</td>\n",
              "    </tr>\n",
              "    <tr>\n",
              "      <th>1</th>\n",
              "      <td>2</td>\n",
              "      <td>2</td>\n",
              "      <td>Spring Cliffs</td>\n",
              "      <td>2015-10-06 08:36:43 UTC</td>\n",
              "      <td>1.288925e+06</td>\n",
              "      <td>POLYGON ((34.796243 32.130388, 34.795859 32.12...</td>\n",
              "    </tr>\n",
              "    <tr>\n",
              "      <th>2</th>\n",
              "      <td>3</td>\n",
              "      <td>7</td>\n",
              "      <td>Ramat Aviv c</td>\n",
              "      <td>2015-10-06 08:36:43 UTC</td>\n",
              "      <td>1.101582e+06</td>\n",
              "      <td>POLYGON ((34.808554 32.128712, 34.808641 32.12...</td>\n",
              "    </tr>\n",
              "    <tr>\n",
              "      <th>3</th>\n",
              "      <td>4</td>\n",
              "      <td>11</td>\n",
              "      <td>Tel aviv university</td>\n",
              "      <td>2015-10-06 08:36:43 UTC</td>\n",
              "      <td>1.459851e+06</td>\n",
              "      <td>POLYGON ((34.802354 32.118062, 34.80239 32.118...</td>\n",
              "    </tr>\n",
              "    <tr>\n",
              "      <th>4</th>\n",
              "      <td>5</td>\n",
              "      <td>6</td>\n",
              "      <td>North Star</td>\n",
              "      <td>2015-10-06 08:36:43 UTC</td>\n",
              "      <td>4.212298e+05</td>\n",
              "      <td>POLYGON ((34.783522 32.098636, 34.783493 32.09...</td>\n",
              "    </tr>\n",
              "  </tbody>\n",
              "</table>\n",
              "</div>\n",
              "      <button class=\"colab-df-convert\" onclick=\"convertToInteractive('df-da4f5d90-b5cd-44f0-9b17-2cd2ff80b9a0')\"\n",
              "              title=\"Convert this dataframe to an interactive table.\"\n",
              "              style=\"display:none;\">\n",
              "        \n",
              "  <svg xmlns=\"http://www.w3.org/2000/svg\" height=\"24px\"viewBox=\"0 0 24 24\"\n",
              "       width=\"24px\">\n",
              "    <path d=\"M0 0h24v24H0V0z\" fill=\"none\"/>\n",
              "    <path d=\"M18.56 5.44l.94 2.06.94-2.06 2.06-.94-2.06-.94-.94-2.06-.94 2.06-2.06.94zm-11 1L8.5 8.5l.94-2.06 2.06-.94-2.06-.94L8.5 2.5l-.94 2.06-2.06.94zm10 10l.94 2.06.94-2.06 2.06-.94-2.06-.94-.94-2.06-.94 2.06-2.06.94z\"/><path d=\"M17.41 7.96l-1.37-1.37c-.4-.4-.92-.59-1.43-.59-.52 0-1.04.2-1.43.59L10.3 9.45l-7.72 7.72c-.78.78-.78 2.05 0 2.83L4 21.41c.39.39.9.59 1.41.59.51 0 1.02-.2 1.41-.59l7.78-7.78 2.81-2.81c.8-.78.8-2.07 0-2.86zM5.41 20L4 18.59l7.72-7.72 1.47 1.35L5.41 20z\"/>\n",
              "  </svg>\n",
              "      </button>\n",
              "      \n",
              "  <style>\n",
              "    .colab-df-container {\n",
              "      display:flex;\n",
              "      flex-wrap:wrap;\n",
              "      gap: 12px;\n",
              "    }\n",
              "\n",
              "    .colab-df-convert {\n",
              "      background-color: #E8F0FE;\n",
              "      border: none;\n",
              "      border-radius: 50%;\n",
              "      cursor: pointer;\n",
              "      display: none;\n",
              "      fill: #1967D2;\n",
              "      height: 32px;\n",
              "      padding: 0 0 0 0;\n",
              "      width: 32px;\n",
              "    }\n",
              "\n",
              "    .colab-df-convert:hover {\n",
              "      background-color: #E2EBFA;\n",
              "      box-shadow: 0px 1px 2px rgba(60, 64, 67, 0.3), 0px 1px 3px 1px rgba(60, 64, 67, 0.15);\n",
              "      fill: #174EA6;\n",
              "    }\n",
              "\n",
              "    [theme=dark] .colab-df-convert {\n",
              "      background-color: #3B4455;\n",
              "      fill: #D2E3FC;\n",
              "    }\n",
              "\n",
              "    [theme=dark] .colab-df-convert:hover {\n",
              "      background-color: #434B5C;\n",
              "      box-shadow: 0px 1px 3px 1px rgba(0, 0, 0, 0.15);\n",
              "      filter: drop-shadow(0px 1px 2px rgba(0, 0, 0, 0.3));\n",
              "      fill: #FFFFFF;\n",
              "    }\n",
              "  </style>\n",
              "\n",
              "      <script>\n",
              "        const buttonEl =\n",
              "          document.querySelector('#df-da4f5d90-b5cd-44f0-9b17-2cd2ff80b9a0 button.colab-df-convert');\n",
              "        buttonEl.style.display =\n",
              "          google.colab.kernel.accessAllowed ? 'block' : 'none';\n",
              "\n",
              "        async function convertToInteractive(key) {\n",
              "          const element = document.querySelector('#df-da4f5d90-b5cd-44f0-9b17-2cd2ff80b9a0');\n",
              "          const dataTable =\n",
              "            await google.colab.kernel.invokeFunction('convertToInteractive',\n",
              "                                                     [key], {});\n",
              "          if (!dataTable) return;\n",
              "\n",
              "          const docLinkHtml = 'Like what you see? Visit the ' +\n",
              "            '<a target=\"_blank\" href=https://colab.research.google.com/notebooks/data_table.ipynb>data table notebook</a>'\n",
              "            + ' to learn more about interactive tables.';\n",
              "          element.innerHTML = '';\n",
              "          dataTable['output_type'] = 'display_data';\n",
              "          await google.colab.output.renderOutput(dataTable, element);\n",
              "          const docLink = document.createElement('div');\n",
              "          docLink.innerHTML = docLinkHtml;\n",
              "          element.appendChild(docLink);\n",
              "        }\n",
              "      </script>\n",
              "    </div>\n",
              "  </div>\n",
              "  "
            ]
          },
          "metadata": {},
          "execution_count": 72
        }
      ]
    },
    {
      "cell_type": "code",
      "source": [
        "from shapely import wkt"
      ],
      "metadata": {
        "id": "mHg11wWLYwXh"
      },
      "execution_count": null,
      "outputs": []
    },
    {
      "cell_type": "code",
      "source": [
        "gpd_map = gpd.GeoDataFrame(DataFrame, geometry=gpd.points_from_xy(DataFrame.longitude, DataFrame.latitude))"
      ],
      "metadata": {
        "id": "_Phn7mJSbvhS"
      },
      "execution_count": null,
      "outputs": []
    },
    {
      "cell_type": "code",
      "source": [
        "gpd_map.head()"
      ],
      "metadata": {
        "colab": {
          "base_uri": "https://localhost:8080/",
          "height": 206
        },
        "id": "Omy2Y1yVYwk4",
        "outputId": "e2fc7a09-21d9-4d4a-8aac-aba40d754662"
      },
      "execution_count": null,
      "outputs": [
        {
          "output_type": "execute_result",
          "data": {
            "text/plain": [
              "      index   latitude  longitude  total_cars  cars_list  \\\n",
              "0   5976043  32.096490  34.794880           1      [170]   \n",
              "1  11123533  32.127629  34.831681           1       [30]   \n",
              "2    804150  32.110910  34.836470           2  [29, 168]   \n",
              "3  16519706  32.053980  34.805520           1      [132]   \n",
              "4  11690984  32.079221  34.788357           0         []   \n",
              "\n",
              "                 timestamp                   geometry  \n",
              "0  2020-02-22 06:03:02 UTC  POINT (34.79488 32.09649)  \n",
              "1  2018-10-10 15:25:57 UTC  POINT (34.83168 32.12763)  \n",
              "2  2019-11-09 10:39:02 UTC  POINT (34.83647 32.11091)  \n",
              "3  2019-12-13 21:42:02 UTC  POINT (34.80552 32.05398)  \n",
              "4  2019-12-09 18:54:02 UTC  POINT (34.78836 32.07922)  "
            ],
            "text/html": [
              "\n",
              "  <div id=\"df-97c78ba2-a8bf-4254-af9c-ad9fcacd8b0e\">\n",
              "    <div class=\"colab-df-container\">\n",
              "      <div>\n",
              "<style scoped>\n",
              "    .dataframe tbody tr th:only-of-type {\n",
              "        vertical-align: middle;\n",
              "    }\n",
              "\n",
              "    .dataframe tbody tr th {\n",
              "        vertical-align: top;\n",
              "    }\n",
              "\n",
              "    .dataframe thead th {\n",
              "        text-align: right;\n",
              "    }\n",
              "</style>\n",
              "<table border=\"1\" class=\"dataframe\">\n",
              "  <thead>\n",
              "    <tr style=\"text-align: right;\">\n",
              "      <th></th>\n",
              "      <th>index</th>\n",
              "      <th>latitude</th>\n",
              "      <th>longitude</th>\n",
              "      <th>total_cars</th>\n",
              "      <th>cars_list</th>\n",
              "      <th>timestamp</th>\n",
              "      <th>geometry</th>\n",
              "    </tr>\n",
              "  </thead>\n",
              "  <tbody>\n",
              "    <tr>\n",
              "      <th>0</th>\n",
              "      <td>5976043</td>\n",
              "      <td>32.096490</td>\n",
              "      <td>34.794880</td>\n",
              "      <td>1</td>\n",
              "      <td>[170]</td>\n",
              "      <td>2020-02-22 06:03:02 UTC</td>\n",
              "      <td>POINT (34.79488 32.09649)</td>\n",
              "    </tr>\n",
              "    <tr>\n",
              "      <th>1</th>\n",
              "      <td>11123533</td>\n",
              "      <td>32.127629</td>\n",
              "      <td>34.831681</td>\n",
              "      <td>1</td>\n",
              "      <td>[30]</td>\n",
              "      <td>2018-10-10 15:25:57 UTC</td>\n",
              "      <td>POINT (34.83168 32.12763)</td>\n",
              "    </tr>\n",
              "    <tr>\n",
              "      <th>2</th>\n",
              "      <td>804150</td>\n",
              "      <td>32.110910</td>\n",
              "      <td>34.836470</td>\n",
              "      <td>2</td>\n",
              "      <td>[29, 168]</td>\n",
              "      <td>2019-11-09 10:39:02 UTC</td>\n",
              "      <td>POINT (34.83647 32.11091)</td>\n",
              "    </tr>\n",
              "    <tr>\n",
              "      <th>3</th>\n",
              "      <td>16519706</td>\n",
              "      <td>32.053980</td>\n",
              "      <td>34.805520</td>\n",
              "      <td>1</td>\n",
              "      <td>[132]</td>\n",
              "      <td>2019-12-13 21:42:02 UTC</td>\n",
              "      <td>POINT (34.80552 32.05398)</td>\n",
              "    </tr>\n",
              "    <tr>\n",
              "      <th>4</th>\n",
              "      <td>11690984</td>\n",
              "      <td>32.079221</td>\n",
              "      <td>34.788357</td>\n",
              "      <td>0</td>\n",
              "      <td>[]</td>\n",
              "      <td>2019-12-09 18:54:02 UTC</td>\n",
              "      <td>POINT (34.78836 32.07922)</td>\n",
              "    </tr>\n",
              "  </tbody>\n",
              "</table>\n",
              "</div>\n",
              "      <button class=\"colab-df-convert\" onclick=\"convertToInteractive('df-97c78ba2-a8bf-4254-af9c-ad9fcacd8b0e')\"\n",
              "              title=\"Convert this dataframe to an interactive table.\"\n",
              "              style=\"display:none;\">\n",
              "        \n",
              "  <svg xmlns=\"http://www.w3.org/2000/svg\" height=\"24px\"viewBox=\"0 0 24 24\"\n",
              "       width=\"24px\">\n",
              "    <path d=\"M0 0h24v24H0V0z\" fill=\"none\"/>\n",
              "    <path d=\"M18.56 5.44l.94 2.06.94-2.06 2.06-.94-2.06-.94-.94-2.06-.94 2.06-2.06.94zm-11 1L8.5 8.5l.94-2.06 2.06-.94-2.06-.94L8.5 2.5l-.94 2.06-2.06.94zm10 10l.94 2.06.94-2.06 2.06-.94-2.06-.94-.94-2.06-.94 2.06-2.06.94z\"/><path d=\"M17.41 7.96l-1.37-1.37c-.4-.4-.92-.59-1.43-.59-.52 0-1.04.2-1.43.59L10.3 9.45l-7.72 7.72c-.78.78-.78 2.05 0 2.83L4 21.41c.39.39.9.59 1.41.59.51 0 1.02-.2 1.41-.59l7.78-7.78 2.81-2.81c.8-.78.8-2.07 0-2.86zM5.41 20L4 18.59l7.72-7.72 1.47 1.35L5.41 20z\"/>\n",
              "  </svg>\n",
              "      </button>\n",
              "      \n",
              "  <style>\n",
              "    .colab-df-container {\n",
              "      display:flex;\n",
              "      flex-wrap:wrap;\n",
              "      gap: 12px;\n",
              "    }\n",
              "\n",
              "    .colab-df-convert {\n",
              "      background-color: #E8F0FE;\n",
              "      border: none;\n",
              "      border-radius: 50%;\n",
              "      cursor: pointer;\n",
              "      display: none;\n",
              "      fill: #1967D2;\n",
              "      height: 32px;\n",
              "      padding: 0 0 0 0;\n",
              "      width: 32px;\n",
              "    }\n",
              "\n",
              "    .colab-df-convert:hover {\n",
              "      background-color: #E2EBFA;\n",
              "      box-shadow: 0px 1px 2px rgba(60, 64, 67, 0.3), 0px 1px 3px 1px rgba(60, 64, 67, 0.15);\n",
              "      fill: #174EA6;\n",
              "    }\n",
              "\n",
              "    [theme=dark] .colab-df-convert {\n",
              "      background-color: #3B4455;\n",
              "      fill: #D2E3FC;\n",
              "    }\n",
              "\n",
              "    [theme=dark] .colab-df-convert:hover {\n",
              "      background-color: #434B5C;\n",
              "      box-shadow: 0px 1px 3px 1px rgba(0, 0, 0, 0.15);\n",
              "      filter: drop-shadow(0px 1px 2px rgba(0, 0, 0, 0.3));\n",
              "      fill: #FFFFFF;\n",
              "    }\n",
              "  </style>\n",
              "\n",
              "      <script>\n",
              "        const buttonEl =\n",
              "          document.querySelector('#df-97c78ba2-a8bf-4254-af9c-ad9fcacd8b0e button.colab-df-convert');\n",
              "        buttonEl.style.display =\n",
              "          google.colab.kernel.accessAllowed ? 'block' : 'none';\n",
              "\n",
              "        async function convertToInteractive(key) {\n",
              "          const element = document.querySelector('#df-97c78ba2-a8bf-4254-af9c-ad9fcacd8b0e');\n",
              "          const dataTable =\n",
              "            await google.colab.kernel.invokeFunction('convertToInteractive',\n",
              "                                                     [key], {});\n",
              "          if (!dataTable) return;\n",
              "\n",
              "          const docLinkHtml = 'Like what you see? Visit the ' +\n",
              "            '<a target=\"_blank\" href=https://colab.research.google.com/notebooks/data_table.ipynb>data table notebook</a>'\n",
              "            + ' to learn more about interactive tables.';\n",
              "          element.innerHTML = '';\n",
              "          dataTable['output_type'] = 'display_data';\n",
              "          await google.colab.output.renderOutput(dataTable, element);\n",
              "          const docLink = document.createElement('div');\n",
              "          docLink.innerHTML = docLinkHtml;\n",
              "          element.appendChild(docLink);\n",
              "        }\n",
              "      </script>\n",
              "    </div>\n",
              "  </div>\n",
              "  "
            ]
          },
          "metadata": {},
          "execution_count": 97
        }
      ]
    },
    {
      "cell_type": "code",
      "source": [
        "pip install geoplot"
      ],
      "metadata": {
        "colab": {
          "base_uri": "https://localhost:8080/"
        },
        "id": "POXOJYpWhLQ6",
        "outputId": "619a4415-c8bc-48ac-8ad0-d6649b81d31a"
      },
      "execution_count": null,
      "outputs": [
        {
          "output_type": "stream",
          "name": "stdout",
          "text": [
            "  Building wheel for cartopy (PEP 517) ... \u001b[?25l\u001b[?25hdone\n",
            "  Created wheel for cartopy: filename=Cartopy-0.19.0.post1-cp37-cp37m-linux_x86_64.whl size=12516296 sha256=7b30e979f976f1d1ac506eed7521dacf2c8d6ac050deb8b850cb90dbb49197d2\n",
            "  Stored in directory: /root/.cache/pip/wheels/98/01/f7/bd10aeb96fe4b518cde5f7c4f5e12c7202f85b7353a5017847\n",
            "Successfully built cartopy\n",
            "Installing collected packages: snuggs, affine, xyzservices, rasterio, pyshp, mercantile, mapclassify, contextily, cartopy, geoplot\n",
            "Successfully installed affine-2.3.1 cartopy-0.19.0.post1 contextily-1.2.0 geoplot-0.5.1 mapclassify-2.4.3 mercantile-1.2.1 pyshp-2.3.1 rasterio-1.2.10 snuggs-1.4.7 xyzservices-2022.9.0\n"
          ]
        }
      ]
    },
    {
      "cell_type": "code",
      "source": [],
      "metadata": {
        "id": "4r5oLIkYhO8k"
      },
      "execution_count": null,
      "outputs": []
    },
    {
      "cell_type": "code",
      "source": [
        "world = gpd.read_file(gpd.datasets.get_path('naturalearth_lowres'))"
      ],
      "metadata": {
        "id": "FeZ7dnrSc0Hk"
      },
      "execution_count": null,
      "outputs": []
    },
    {
      "cell_type": "code",
      "source": [
        "tel_aviv_map = gpd.read_file('/content/drive/MyDrive/BigDataXspatial/Tel_aviv.shp')"
      ],
      "metadata": {
        "id": "93V9ZxJVfMCM"
      },
      "execution_count": null,
      "outputs": []
    },
    {
      "cell_type": "code",
      "source": [
        "tel_aviv_map.plot()"
      ],
      "metadata": {
        "colab": {
          "base_uri": "https://localhost:8080/",
          "height": 282
        },
        "id": "5VqwLAdffun2",
        "outputId": "2def6c2a-b883-4f22-e4ce-0e562b8ebf80"
      },
      "execution_count": null,
      "outputs": [
        {
          "output_type": "execute_result",
          "data": {
            "text/plain": [
              "<matplotlib.axes._subplots.AxesSubplot at 0x7fc89119f110>"
            ]
          },
          "metadata": {},
          "execution_count": 91
        },
        {
          "output_type": "display_data",
          "data": {
            "text/plain": [
              "<Figure size 432x288 with 1 Axes>"
            ],
            "image/png": "[encoded data removed]"
          },
          "metadata": {
            "needs_background": "light"
          }
        }
      ]
    },
    {
      "cell_type": "code",
      "source": [
        "import geoplot"
      ],
      "metadata": {
        "id": "JBiqYF_lfz9-"
      },
      "execution_count": null,
      "outputs": []
    },
    {
      "cell_type": "code",
      "source": [
        "import geoplot.crs as gcrs"
      ],
      "metadata": {
        "id": "F25eycYbihai"
      },
      "execution_count": null,
      "outputs": []
    },
    {
      "cell_type": "code",
      "source": [
        "import folium"
      ],
      "metadata": {
        "id": "PhyGQ3v8mjgg"
      },
      "execution_count": null,
      "outputs": []
    },
    {
      "cell_type": "code",
      "source": [
        "ax = tel_aviv_map.plot()\n",
        "gpd_map.plot(ax = ax, cmap='coolwarm')\n",
        "plt.show()"
      ],
      "metadata": {
        "colab": {
          "base_uri": "https://localhost:8080/",
          "height": 265
        },
        "id": "iApzX7EFYwvv",
        "outputId": "05dc7de4-5235-46db-f009-2c602c08d0d4"
      },
      "execution_count": null,
      "outputs": [
        {
          "output_type": "display_data",
          "data": {
            "text/plain": [
              "<Figure size 432x288 with 1 Axes>"
            ],
            "image/png": "[encoded data removed]"
          },
          "metadata": {
            "needs_background": "light"
          }
        }
      ]
    },
    {
      "cell_type": "code",
      "source": [
        "DataFrame[['longitude', 'latitude']] = DataFrame[['longitude', 'latitude']].round(3)\n",
        "DataFrame['parking'] = '(' + DataFrame['latitude'].map(str) + ',' + DataFrame['longitude'].map(str) + ')'\n",
        "print(DataFrame['parking'].nunique())"
      ],
      "metadata": {
        "colab": {
          "base_uri": "https://localhost:8080/"
        },
        "id": "yg5Rzlsjjy4b",
        "outputId": "31e3daa3-115f-4e18-e340-4eee604c425a"
      },
      "execution_count": null,
      "outputs": [
        {
          "output_type": "stream",
          "name": "stdout",
          "text": [
            "3066\n"
          ]
        }
      ]
    },
    {
      "cell_type": "code",
      "source": [
        "df_sub = DataFrame[DataFrame['total_cars']> 3].sort_values(['timestamp']).reset_index(drop=True)"
      ],
      "metadata": {
        "id": "HJoIz33NYw6k"
      },
      "execution_count": null,
      "outputs": []
    },
    {
      "cell_type": "code",
      "source": [
        "big_carparks = {}\n",
        "\n",
        "for row in range(len(df_sub)):\n",
        "    parking = df_sub['parking'][row]\n",
        "    car_count = df_sub['total_cars'][row]\n",
        "    if parking in big_carparks.keys():\n",
        "        if car_count > big_carparks[parking]:\n",
        "            big_carparks[parking] = car_count\n",
        "    else:\n",
        "        big_carparks[parking] = car_count\n",
        "\n",
        "def color(number):\n",
        "    if number == 6:\n",
        "        return 'blue'\n",
        "    elif number == 4:\n",
        "        return 'green'\n",
        "    elif number == 5:\n",
        "        return 'orange'\n",
        "    else:\n",
        "        return 'red'\n",
        "        \n",
        "m = folium.Map([32.089, 34.797], zoom_start = 12, width = '40%')\n",
        "\n",
        "for key in big_carparks.keys():\n",
        "    key1, key2 = key.lstrip('(').strip(')').split(',')\n",
        "    folium.Marker([key1,key2], popup = key, \n",
        "                  icon = folium.Icon(color = color(big_carparks[key]), prefix = 'fa')\n",
        "                 ).add_to(m)\n",
        "\n",
        "m"
      ],
      "metadata": {
        "colab": {
          "base_uri": "https://localhost:8080/",
          "height": 711
        },
        "id": "7s2g2xlqmfKh",
        "outputId": "58ea33b4-e6ea-4b26-b299-5811d4ab30bd"
      },
      "execution_count": null,
      "outputs": [
        {
          "output_type": "execute_result",
          "data": {
            "text/plain": [
              "<folium.folium.Map at 0x7fc870cb1c10>"
            ],
            "text/html": [
              "<div style=\"width:100%;\"><div style=\"position:relative;width:100%;height:0;padding-bottom:60%;\"><span style=\"color:#565656\">Make this Notebook Trusted to load map: File -> Trust Notebook</span><iframe srcdoc=\"&lt;!DOCTYPE html&gt;\n",
              "&lt;html&gt;\n",
              "&lt;head&gt;\n",
              "    \n",
              "    &lt;meta http-equiv=&quot;content-type&quot; content=&quot;text/html; charset=UTF-8&quot; /&gt;\n",
              "    \n",
              "        &lt;script&gt;\n",
              "            L_NO_TOUCH = false;\n",
              "            L_DISABLE_3D = false;\n",
              "        &lt;/script&gt;\n",
              "    \n",
              "    &lt;style&gt;html, body {width: 100%;height: 100%;margin: 0;padding: 0;}&lt;/style&gt;\n",
              "    &lt;style&gt;#map {position:absolute;top:0;bottom:0;right:0;left:0;}&lt;/style&gt;\n",
              "    &lt;script src=&quot;https://cdn.jsdelivr.net/npm/leaflet@1.6.0/dist/leaflet.js&quot;&gt;&lt;/script&gt;\n",
              "    &lt;script src=&quot;https://code.jquery.com/jquery-1.12.4.min.js&quot;&gt;&lt;/script&gt;\n",
              "    &lt;script src=&quot;https://maxcdn.bootstrapcdn.com/bootstrap/3.2.0/js/bootstrap.min.js&quot;&gt;&lt;/script&gt;\n",
              "    &lt;script src=&quot;https://cdnjs.cloudflare.com/ajax/libs/Leaflet.awesome-markers/2.0.2/leaflet.awesome-markers.js&quot;&gt;&lt;/script&gt;\n",
              "    &lt;link rel=&quot;stylesheet&quot; href=&quot;https://cdn.jsdelivr.net/npm/leaflet@1.6.0/dist/leaflet.css&quot;/&gt;\n",
              "    &lt;link rel=&quot;stylesheet&quot; href=&quot;https://maxcdn.bootstrapcdn.com/bootstrap/3.2.0/css/bootstrap.min.css&quot;/&gt;\n",
              "    &lt;link rel=&quot;stylesheet&quot; href=&quot;https://maxcdn.bootstrapcdn.com/bootstrap/3.2.0/css/bootstrap-theme.min.css&quot;/&gt;\n",
              "    &lt;link rel=&quot;stylesheet&quot; href=&quot;https://maxcdn.bootstrapcdn.com/font-awesome/4.6.3/css/font-awesome.min.css&quot;/&gt;\n",
              "    &lt;link rel=&quot;stylesheet&quot; href=&quot;https://cdnjs.cloudflare.com/ajax/libs/Leaflet.awesome-markers/2.0.2/leaflet.awesome-markers.css&quot;/&gt;\n",
              "    &lt;link rel=&quot;stylesheet&quot; href=&quot;https://cdn.jsdelivr.net/gh/python-visualization/folium/folium/templates/leaflet.awesome.rotate.min.css&quot;/&gt;\n",
              "    \n",
              "            &lt;meta name=&quot;viewport&quot; content=&quot;width=device-width,\n",
              "                initial-scale=1.0, maximum-scale=1.0, user-scalable=no&quot; /&gt;\n",
              "            &lt;style&gt;\n",
              "                #map_46d46f2692727bb4ae16aeefccae3d6d {\n",
              "                    position: relative;\n",
              "                    width: 40.0%;\n",
              "                    height: 100.0%;\n",
              "                    left: 0.0%;\n",
              "                    top: 0.0%;\n",
              "                }\n",
              "            &lt;/style&gt;\n",
              "        \n",
              "&lt;/head&gt;\n",
              "&lt;body&gt;\n",
              "    \n",
              "    \n",
              "            &lt;div class=&quot;folium-map&quot; id=&quot;map_46d46f2692727bb4ae16aeefccae3d6d&quot; &gt;&lt;/div&gt;\n",
              "        \n",
              "&lt;/body&gt;\n",
              "&lt;script&gt;\n",
              "    \n",
              "    \n",
              "            var map_46d46f2692727bb4ae16aeefccae3d6d = L.map(\n",
              "                &quot;map_46d46f2692727bb4ae16aeefccae3d6d&quot;,\n",
              "                {\n",
              "                    center: [32.089, 34.797],\n",
              "                    crs: L.CRS.EPSG3857,\n",
              "                    zoom: 12,\n",
              "                    zoomControl: true,\n",
              "                    preferCanvas: false,\n",
              "                }\n",
              "            );\n",
              "\n",
              "            \n",
              "\n",
              "        \n",
              "    \n",
              "            var tile_layer_18f811db0f556efa7591d40cae009ef7 = L.tileLayer(\n",
              "                &quot;https://{s}.tile.openstreetmap.org/{z}/{x}/{y}.png&quot;,\n",
              "                {&quot;attribution&quot;: &quot;Data by \\u0026copy; \\u003ca href=\\&quot;http://openstreetmap.org\\&quot;\\u003eOpenStreetMap\\u003c/a\\u003e, under \\u003ca href=\\&quot;http://www.openstreetmap.org/copyright\\&quot;\\u003eODbL\\u003c/a\\u003e.&quot;, &quot;detectRetina&quot;: false, &quot;maxNativeZoom&quot;: 18, &quot;maxZoom&quot;: 18, &quot;minZoom&quot;: 0, &quot;noWrap&quot;: false, &quot;opacity&quot;: 1, &quot;subdomains&quot;: &quot;abc&quot;, &quot;tms&quot;: false}\n",
              "            ).addTo(map_46d46f2692727bb4ae16aeefccae3d6d);\n",
              "        \n",
              "    \n",
              "            var marker_ea50196a3f20a4f8aede1b4603c01f54 = L.marker(\n",
              "                [32.037, 34.762],\n",
              "                {}\n",
              "            ).addTo(map_46d46f2692727bb4ae16aeefccae3d6d);\n",
              "        \n",
              "    \n",
              "            var icon_132807292c60605ee3d3a97ad2f17905 = L.AwesomeMarkers.icon(\n",
              "                {&quot;extraClasses&quot;: &quot;fa-rotate-0&quot;, &quot;icon&quot;: &quot;info-sign&quot;, &quot;iconColor&quot;: &quot;white&quot;, &quot;markerColor&quot;: &quot;red&quot;, &quot;prefix&quot;: &quot;fa&quot;}\n",
              "            );\n",
              "            marker_ea50196a3f20a4f8aede1b4603c01f54.setIcon(icon_132807292c60605ee3d3a97ad2f17905);\n",
              "        \n",
              "    \n",
              "        var popup_77cfe7fb65c1d1f39b7a34a4a3e8b257 = L.popup({&quot;maxWidth&quot;: &quot;100%&quot;});\n",
              "\n",
              "        \n",
              "            var html_35855cb6d30c51bde02374ac131cc984 = $(`&lt;div id=&quot;html_35855cb6d30c51bde02374ac131cc984&quot; style=&quot;width: 100.0%; height: 100.0%;&quot;&gt;(32.037,34.762)&lt;/div&gt;`)[0];\n",
              "            popup_77cfe7fb65c1d1f39b7a34a4a3e8b257.setContent(html_35855cb6d30c51bde02374ac131cc984);\n",
              "        \n",
              "\n",
              "        marker_ea50196a3f20a4f8aede1b4603c01f54.bindPopup(popup_77cfe7fb65c1d1f39b7a34a4a3e8b257)\n",
              "        ;\n",
              "\n",
              "        \n",
              "    \n",
              "    \n",
              "            var marker_d60e81fd91c2cd0529773fcac91cff13 = L.marker(\n",
              "                [32.112, 34.841],\n",
              "                {}\n",
              "            ).addTo(map_46d46f2692727bb4ae16aeefccae3d6d);\n",
              "        \n",
              "    \n",
              "            var icon_7f38c0855751a6946a927f8feb1bc51f = L.AwesomeMarkers.icon(\n",
              "                {&quot;extraClasses&quot;: &quot;fa-rotate-0&quot;, &quot;icon&quot;: &quot;info-sign&quot;, &quot;iconColor&quot;: &quot;white&quot;, &quot;markerColor&quot;: &quot;red&quot;, &quot;prefix&quot;: &quot;fa&quot;}\n",
              "            );\n",
              "            marker_d60e81fd91c2cd0529773fcac91cff13.setIcon(icon_7f38c0855751a6946a927f8feb1bc51f);\n",
              "        \n",
              "    \n",
              "        var popup_f17da21d2a54e34466d23a5b21cf4c1d = L.popup({&quot;maxWidth&quot;: &quot;100%&quot;});\n",
              "\n",
              "        \n",
              "            var html_4aa2cc416c2b0b907d21278807b7ebf1 = $(`&lt;div id=&quot;html_4aa2cc416c2b0b907d21278807b7ebf1&quot; style=&quot;width: 100.0%; height: 100.0%;&quot;&gt;(32.112,34.841)&lt;/div&gt;`)[0];\n",
              "            popup_f17da21d2a54e34466d23a5b21cf4c1d.setContent(html_4aa2cc416c2b0b907d21278807b7ebf1);\n",
              "        \n",
              "\n",
              "        marker_d60e81fd91c2cd0529773fcac91cff13.bindPopup(popup_f17da21d2a54e34466d23a5b21cf4c1d)\n",
              "        ;\n",
              "\n",
              "        \n",
              "    \n",
              "    \n",
              "            var marker_3edce084fc8d2358d60be286a78b6452 = L.marker(\n",
              "                [32.054, 34.753],\n",
              "                {}\n",
              "            ).addTo(map_46d46f2692727bb4ae16aeefccae3d6d);\n",
              "        \n",
              "    \n",
              "            var icon_0ae54836caea2bd55a192432fb465b8e = L.AwesomeMarkers.icon(\n",
              "                {&quot;extraClasses&quot;: &quot;fa-rotate-0&quot;, &quot;icon&quot;: &quot;info-sign&quot;, &quot;iconColor&quot;: &quot;white&quot;, &quot;markerColor&quot;: &quot;orange&quot;, &quot;prefix&quot;: &quot;fa&quot;}\n",
              "            );\n",
              "            marker_3edce084fc8d2358d60be286a78b6452.setIcon(icon_0ae54836caea2bd55a192432fb465b8e);\n",
              "        \n",
              "    \n",
              "        var popup_e94dd531166a94788d2e94742a6cc202 = L.popup({&quot;maxWidth&quot;: &quot;100%&quot;});\n",
              "\n",
              "        \n",
              "            var html_75eb17adce0b72194ba0613d0b37f207 = $(`&lt;div id=&quot;html_75eb17adce0b72194ba0613d0b37f207&quot; style=&quot;width: 100.0%; height: 100.0%;&quot;&gt;(32.054,34.753)&lt;/div&gt;`)[0];\n",
              "            popup_e94dd531166a94788d2e94742a6cc202.setContent(html_75eb17adce0b72194ba0613d0b37f207);\n",
              "        \n",
              "\n",
              "        marker_3edce084fc8d2358d60be286a78b6452.bindPopup(popup_e94dd531166a94788d2e94742a6cc202)\n",
              "        ;\n",
              "\n",
              "        \n",
              "    \n",
              "    \n",
              "            var marker_c013a0a6bd74c395d1054755805cf245 = L.marker(\n",
              "                [32.035, 34.759],\n",
              "                {}\n",
              "            ).addTo(map_46d46f2692727bb4ae16aeefccae3d6d);\n",
              "        \n",
              "    \n",
              "            var icon_28fbbaa07666d2fb175f542743dacf6a = L.AwesomeMarkers.icon(\n",
              "                {&quot;extraClasses&quot;: &quot;fa-rotate-0&quot;, &quot;icon&quot;: &quot;info-sign&quot;, &quot;iconColor&quot;: &quot;white&quot;, &quot;markerColor&quot;: &quot;orange&quot;, &quot;prefix&quot;: &quot;fa&quot;}\n",
              "            );\n",
              "            marker_c013a0a6bd74c395d1054755805cf245.setIcon(icon_28fbbaa07666d2fb175f542743dacf6a);\n",
              "        \n",
              "    \n",
              "        var popup_cf77ed5829d45274a829424b01f914c3 = L.popup({&quot;maxWidth&quot;: &quot;100%&quot;});\n",
              "\n",
              "        \n",
              "            var html_ca0e8e1083f63698b3187665571b2af0 = $(`&lt;div id=&quot;html_ca0e8e1083f63698b3187665571b2af0&quot; style=&quot;width: 100.0%; height: 100.0%;&quot;&gt;(32.035,34.759)&lt;/div&gt;`)[0];\n",
              "            popup_cf77ed5829d45274a829424b01f914c3.setContent(html_ca0e8e1083f63698b3187665571b2af0);\n",
              "        \n",
              "\n",
              "        marker_c013a0a6bd74c395d1054755805cf245.bindPopup(popup_cf77ed5829d45274a829424b01f914c3)\n",
              "        ;\n",
              "\n",
              "        \n",
              "    \n",
              "    \n",
              "            var marker_39c4e628d0228a4602fb11e2a83581d0 = L.marker(\n",
              "                [32.085, 34.797],\n",
              "                {}\n",
              "            ).addTo(map_46d46f2692727bb4ae16aeefccae3d6d);\n",
              "        \n",
              "    \n",
              "            var icon_a74295964ff0a1a4db8ded32f24eb99d = L.AwesomeMarkers.icon(\n",
              "                {&quot;extraClasses&quot;: &quot;fa-rotate-0&quot;, &quot;icon&quot;: &quot;info-sign&quot;, &quot;iconColor&quot;: &quot;white&quot;, &quot;markerColor&quot;: &quot;red&quot;, &quot;prefix&quot;: &quot;fa&quot;}\n",
              "            );\n",
              "            marker_39c4e628d0228a4602fb11e2a83581d0.setIcon(icon_a74295964ff0a1a4db8ded32f24eb99d);\n",
              "        \n",
              "    \n",
              "        var popup_7b7d557a1103371b81c0fc93acb205a9 = L.popup({&quot;maxWidth&quot;: &quot;100%&quot;});\n",
              "\n",
              "        \n",
              "            var html_144feb84882fc814914e0c66154668e0 = $(`&lt;div id=&quot;html_144feb84882fc814914e0c66154668e0&quot; style=&quot;width: 100.0%; height: 100.0%;&quot;&gt;(32.085,34.797)&lt;/div&gt;`)[0];\n",
              "            popup_7b7d557a1103371b81c0fc93acb205a9.setContent(html_144feb84882fc814914e0c66154668e0);\n",
              "        \n",
              "\n",
              "        marker_39c4e628d0228a4602fb11e2a83581d0.bindPopup(popup_7b7d557a1103371b81c0fc93acb205a9)\n",
              "        ;\n",
              "\n",
              "        \n",
              "    \n",
              "    \n",
              "            var marker_5f71f7beae8333fcadafb0273e05043f = L.marker(\n",
              "                [32.124, 34.796],\n",
              "                {}\n",
              "            ).addTo(map_46d46f2692727bb4ae16aeefccae3d6d);\n",
              "        \n",
              "    \n",
              "            var icon_1110f8f4f81f0630d074726cfb3390cd = L.AwesomeMarkers.icon(\n",
              "                {&quot;extraClasses&quot;: &quot;fa-rotate-0&quot;, &quot;icon&quot;: &quot;info-sign&quot;, &quot;iconColor&quot;: &quot;white&quot;, &quot;markerColor&quot;: &quot;orange&quot;, &quot;prefix&quot;: &quot;fa&quot;}\n",
              "            );\n",
              "            marker_5f71f7beae8333fcadafb0273e05043f.setIcon(icon_1110f8f4f81f0630d074726cfb3390cd);\n",
              "        \n",
              "    \n",
              "        var popup_26b0edeb814eaab513dd21f5770d3246 = L.popup({&quot;maxWidth&quot;: &quot;100%&quot;});\n",
              "\n",
              "        \n",
              "            var html_f9c816cbb6a17c4996fdb89cce278df3 = $(`&lt;div id=&quot;html_f9c816cbb6a17c4996fdb89cce278df3&quot; style=&quot;width: 100.0%; height: 100.0%;&quot;&gt;(32.124,34.796)&lt;/div&gt;`)[0];\n",
              "            popup_26b0edeb814eaab513dd21f5770d3246.setContent(html_f9c816cbb6a17c4996fdb89cce278df3);\n",
              "        \n",
              "\n",
              "        marker_5f71f7beae8333fcadafb0273e05043f.bindPopup(popup_26b0edeb814eaab513dd21f5770d3246)\n",
              "        ;\n",
              "\n",
              "        \n",
              "    \n",
              "    \n",
              "            var marker_9d9c1a355bc6700ef305759abd304752 = L.marker(\n",
              "                [32.06, 34.772],\n",
              "                {}\n",
              "            ).addTo(map_46d46f2692727bb4ae16aeefccae3d6d);\n",
              "        \n",
              "    \n",
              "            var icon_e9779510dc288978f95b88fa7868ba7f = L.AwesomeMarkers.icon(\n",
              "                {&quot;extraClasses&quot;: &quot;fa-rotate-0&quot;, &quot;icon&quot;: &quot;info-sign&quot;, &quot;iconColor&quot;: &quot;white&quot;, &quot;markerColor&quot;: &quot;green&quot;, &quot;prefix&quot;: &quot;fa&quot;}\n",
              "            );\n",
              "            marker_9d9c1a355bc6700ef305759abd304752.setIcon(icon_e9779510dc288978f95b88fa7868ba7f);\n",
              "        \n",
              "    \n",
              "        var popup_6e58d1f3ab94a0effa66a3c6163392c7 = L.popup({&quot;maxWidth&quot;: &quot;100%&quot;});\n",
              "\n",
              "        \n",
              "            var html_ff9b581fd9659f22153151397c5b7ded = $(`&lt;div id=&quot;html_ff9b581fd9659f22153151397c5b7ded&quot; style=&quot;width: 100.0%; height: 100.0%;&quot;&gt;(32.06,34.772)&lt;/div&gt;`)[0];\n",
              "            popup_6e58d1f3ab94a0effa66a3c6163392c7.setContent(html_ff9b581fd9659f22153151397c5b7ded);\n",
              "        \n",
              "\n",
              "        marker_9d9c1a355bc6700ef305759abd304752.bindPopup(popup_6e58d1f3ab94a0effa66a3c6163392c7)\n",
              "        ;\n",
              "\n",
              "        \n",
              "    \n",
              "    \n",
              "            var marker_31a596891d24fd754ed0c41cd956a46d = L.marker(\n",
              "                [32.104, 34.81],\n",
              "                {}\n",
              "            ).addTo(map_46d46f2692727bb4ae16aeefccae3d6d);\n",
              "        \n",
              "    \n",
              "            var icon_fc9ec1b25e36a9cc9e3699ce73895b55 = L.AwesomeMarkers.icon(\n",
              "                {&quot;extraClasses&quot;: &quot;fa-rotate-0&quot;, &quot;icon&quot;: &quot;info-sign&quot;, &quot;iconColor&quot;: &quot;white&quot;, &quot;markerColor&quot;: &quot;green&quot;, &quot;prefix&quot;: &quot;fa&quot;}\n",
              "            );\n",
              "            marker_31a596891d24fd754ed0c41cd956a46d.setIcon(icon_fc9ec1b25e36a9cc9e3699ce73895b55);\n",
              "        \n",
              "    \n",
              "        var popup_bef51958bbd8ffdd73e0f40a4ee09f2f = L.popup({&quot;maxWidth&quot;: &quot;100%&quot;});\n",
              "\n",
              "        \n",
              "            var html_ef58a09e7957f8863c4a38da567abbbc = $(`&lt;div id=&quot;html_ef58a09e7957f8863c4a38da567abbbc&quot; style=&quot;width: 100.0%; height: 100.0%;&quot;&gt;(32.104,34.81)&lt;/div&gt;`)[0];\n",
              "            popup_bef51958bbd8ffdd73e0f40a4ee09f2f.setContent(html_ef58a09e7957f8863c4a38da567abbbc);\n",
              "        \n",
              "\n",
              "        marker_31a596891d24fd754ed0c41cd956a46d.bindPopup(popup_bef51958bbd8ffdd73e0f40a4ee09f2f)\n",
              "        ;\n",
              "\n",
              "        \n",
              "    \n",
              "    \n",
              "            var marker_dc6f72360021b4fa9e274ec566df5f01 = L.marker(\n",
              "                [32.05, 34.752],\n",
              "                {}\n",
              "            ).addTo(map_46d46f2692727bb4ae16aeefccae3d6d);\n",
              "        \n",
              "    \n",
              "            var icon_8e3af7c2da359e616b85d9ea547cb672 = L.AwesomeMarkers.icon(\n",
              "                {&quot;extraClasses&quot;: &quot;fa-rotate-0&quot;, &quot;icon&quot;: &quot;info-sign&quot;, &quot;iconColor&quot;: &quot;white&quot;, &quot;markerColor&quot;: &quot;green&quot;, &quot;prefix&quot;: &quot;fa&quot;}\n",
              "            );\n",
              "            marker_dc6f72360021b4fa9e274ec566df5f01.setIcon(icon_8e3af7c2da359e616b85d9ea547cb672);\n",
              "        \n",
              "    \n",
              "        var popup_5fad1f4b1aeebcc906697fc5c65e3900 = L.popup({&quot;maxWidth&quot;: &quot;100%&quot;});\n",
              "\n",
              "        \n",
              "            var html_1687767d4fc8e8a59cc538f127582616 = $(`&lt;div id=&quot;html_1687767d4fc8e8a59cc538f127582616&quot; style=&quot;width: 100.0%; height: 100.0%;&quot;&gt;(32.05,34.752)&lt;/div&gt;`)[0];\n",
              "            popup_5fad1f4b1aeebcc906697fc5c65e3900.setContent(html_1687767d4fc8e8a59cc538f127582616);\n",
              "        \n",
              "\n",
              "        marker_dc6f72360021b4fa9e274ec566df5f01.bindPopup(popup_5fad1f4b1aeebcc906697fc5c65e3900)\n",
              "        ;\n",
              "\n",
              "        \n",
              "    \n",
              "    \n",
              "            var marker_689142f13f2295cd5e3b0f343f6eaf7d = L.marker(\n",
              "                [32.05, 34.757],\n",
              "                {}\n",
              "            ).addTo(map_46d46f2692727bb4ae16aeefccae3d6d);\n",
              "        \n",
              "    \n",
              "            var icon_07933993b465ac17a248358cd237af0a = L.AwesomeMarkers.icon(\n",
              "                {&quot;extraClasses&quot;: &quot;fa-rotate-0&quot;, &quot;icon&quot;: &quot;info-sign&quot;, &quot;iconColor&quot;: &quot;white&quot;, &quot;markerColor&quot;: &quot;green&quot;, &quot;prefix&quot;: &quot;fa&quot;}\n",
              "            );\n",
              "            marker_689142f13f2295cd5e3b0f343f6eaf7d.setIcon(icon_07933993b465ac17a248358cd237af0a);\n",
              "        \n",
              "    \n",
              "        var popup_d9ae2000a05ab25f8e5e4b5f5919869d = L.popup({&quot;maxWidth&quot;: &quot;100%&quot;});\n",
              "\n",
              "        \n",
              "            var html_e46bb5e8303a2d584e216dc0e8cbab96 = $(`&lt;div id=&quot;html_e46bb5e8303a2d584e216dc0e8cbab96&quot; style=&quot;width: 100.0%; height: 100.0%;&quot;&gt;(32.05,34.757)&lt;/div&gt;`)[0];\n",
              "            popup_d9ae2000a05ab25f8e5e4b5f5919869d.setContent(html_e46bb5e8303a2d584e216dc0e8cbab96);\n",
              "        \n",
              "\n",
              "        marker_689142f13f2295cd5e3b0f343f6eaf7d.bindPopup(popup_d9ae2000a05ab25f8e5e4b5f5919869d)\n",
              "        ;\n",
              "\n",
              "        \n",
              "    \n",
              "    \n",
              "            var marker_fb1c7805617a8adebab6ae34a7c4edef = L.marker(\n",
              "                [32.103, 34.806],\n",
              "                {}\n",
              "            ).addTo(map_46d46f2692727bb4ae16aeefccae3d6d);\n",
              "        \n",
              "    \n",
              "            var icon_b8ac8c71785bb865bb67e97914f01e6c = L.AwesomeMarkers.icon(\n",
              "                {&quot;extraClasses&quot;: &quot;fa-rotate-0&quot;, &quot;icon&quot;: &quot;info-sign&quot;, &quot;iconColor&quot;: &quot;white&quot;, &quot;markerColor&quot;: &quot;blue&quot;, &quot;prefix&quot;: &quot;fa&quot;}\n",
              "            );\n",
              "            marker_fb1c7805617a8adebab6ae34a7c4edef.setIcon(icon_b8ac8c71785bb865bb67e97914f01e6c);\n",
              "        \n",
              "    \n",
              "        var popup_e003aa12137019029f81c4d09d0ca502 = L.popup({&quot;maxWidth&quot;: &quot;100%&quot;});\n",
              "\n",
              "        \n",
              "            var html_1586a944309006d32ad5b24e97013f91 = $(`&lt;div id=&quot;html_1586a944309006d32ad5b24e97013f91&quot; style=&quot;width: 100.0%; height: 100.0%;&quot;&gt;(32.103,34.806)&lt;/div&gt;`)[0];\n",
              "            popup_e003aa12137019029f81c4d09d0ca502.setContent(html_1586a944309006d32ad5b24e97013f91);\n",
              "        \n",
              "\n",
              "        marker_fb1c7805617a8adebab6ae34a7c4edef.bindPopup(popup_e003aa12137019029f81c4d09d0ca502)\n",
              "        ;\n",
              "\n",
              "        \n",
              "    \n",
              "    \n",
              "            var marker_a37562f54b51dfe5d482b0ff94f43773 = L.marker(\n",
              "                [32.044, 34.77],\n",
              "                {}\n",
              "            ).addTo(map_46d46f2692727bb4ae16aeefccae3d6d);\n",
              "        \n",
              "    \n",
              "            var icon_30f2f52323fff9152b98be603010dcbd = L.AwesomeMarkers.icon(\n",
              "                {&quot;extraClasses&quot;: &quot;fa-rotate-0&quot;, &quot;icon&quot;: &quot;info-sign&quot;, &quot;iconColor&quot;: &quot;white&quot;, &quot;markerColor&quot;: &quot;green&quot;, &quot;prefix&quot;: &quot;fa&quot;}\n",
              "            );\n",
              "            marker_a37562f54b51dfe5d482b0ff94f43773.setIcon(icon_30f2f52323fff9152b98be603010dcbd);\n",
              "        \n",
              "    \n",
              "        var popup_f083dbb54f4d15360ed44b6b64ab6572 = L.popup({&quot;maxWidth&quot;: &quot;100%&quot;});\n",
              "\n",
              "        \n",
              "            var html_dd36fe9322691bbc23393e0e59e87a29 = $(`&lt;div id=&quot;html_dd36fe9322691bbc23393e0e59e87a29&quot; style=&quot;width: 100.0%; height: 100.0%;&quot;&gt;(32.044,34.77)&lt;/div&gt;`)[0];\n",
              "            popup_f083dbb54f4d15360ed44b6b64ab6572.setContent(html_dd36fe9322691bbc23393e0e59e87a29);\n",
              "        \n",
              "\n",
              "        marker_a37562f54b51dfe5d482b0ff94f43773.bindPopup(popup_f083dbb54f4d15360ed44b6b64ab6572)\n",
              "        ;\n",
              "\n",
              "        \n",
              "    \n",
              "    \n",
              "            var marker_dd04a9094827a2988b77bbbb23d23d63 = L.marker(\n",
              "                [32.117, 34.843],\n",
              "                {}\n",
              "            ).addTo(map_46d46f2692727bb4ae16aeefccae3d6d);\n",
              "        \n",
              "    \n",
              "            var icon_75026221b7561a88bf0f41cfb3a27610 = L.AwesomeMarkers.icon(\n",
              "                {&quot;extraClasses&quot;: &quot;fa-rotate-0&quot;, &quot;icon&quot;: &quot;info-sign&quot;, &quot;iconColor&quot;: &quot;white&quot;, &quot;markerColor&quot;: &quot;green&quot;, &quot;prefix&quot;: &quot;fa&quot;}\n",
              "            );\n",
              "            marker_dd04a9094827a2988b77bbbb23d23d63.setIcon(icon_75026221b7561a88bf0f41cfb3a27610);\n",
              "        \n",
              "    \n",
              "        var popup_9b8407d98d63f34d66b63d773c2f6465 = L.popup({&quot;maxWidth&quot;: &quot;100%&quot;});\n",
              "\n",
              "        \n",
              "            var html_a2280ba1a86761169bd4cf7980188065 = $(`&lt;div id=&quot;html_a2280ba1a86761169bd4cf7980188065&quot; style=&quot;width: 100.0%; height: 100.0%;&quot;&gt;(32.117,34.843)&lt;/div&gt;`)[0];\n",
              "            popup_9b8407d98d63f34d66b63d773c2f6465.setContent(html_a2280ba1a86761169bd4cf7980188065);\n",
              "        \n",
              "\n",
              "        marker_dd04a9094827a2988b77bbbb23d23d63.bindPopup(popup_9b8407d98d63f34d66b63d773c2f6465)\n",
              "        ;\n",
              "\n",
              "        \n",
              "    \n",
              "    \n",
              "            var marker_8246d66bf57482a6f3d6bc32cd91f9f6 = L.marker(\n",
              "                [32.125, 34.802],\n",
              "                {}\n",
              "            ).addTo(map_46d46f2692727bb4ae16aeefccae3d6d);\n",
              "        \n",
              "    \n",
              "            var icon_48852557bd32f3ece07cda973cb62241 = L.AwesomeMarkers.icon(\n",
              "                {&quot;extraClasses&quot;: &quot;fa-rotate-0&quot;, &quot;icon&quot;: &quot;info-sign&quot;, &quot;iconColor&quot;: &quot;white&quot;, &quot;markerColor&quot;: &quot;green&quot;, &quot;prefix&quot;: &quot;fa&quot;}\n",
              "            );\n",
              "            marker_8246d66bf57482a6f3d6bc32cd91f9f6.setIcon(icon_48852557bd32f3ece07cda973cb62241);\n",
              "        \n",
              "    \n",
              "        var popup_577faa69f78c4bd2fee42cf1ef086cb1 = L.popup({&quot;maxWidth&quot;: &quot;100%&quot;});\n",
              "\n",
              "        \n",
              "            var html_d39f5f3ab779e08a282f9dd65e52aede = $(`&lt;div id=&quot;html_d39f5f3ab779e08a282f9dd65e52aede&quot; style=&quot;width: 100.0%; height: 100.0%;&quot;&gt;(32.125,34.802)&lt;/div&gt;`)[0];\n",
              "            popup_577faa69f78c4bd2fee42cf1ef086cb1.setContent(html_d39f5f3ab779e08a282f9dd65e52aede);\n",
              "        \n",
              "\n",
              "        marker_8246d66bf57482a6f3d6bc32cd91f9f6.bindPopup(popup_577faa69f78c4bd2fee42cf1ef086cb1)\n",
              "        ;\n",
              "\n",
              "        \n",
              "    \n",
              "    \n",
              "            var marker_b6b006687ee802f197170eb7719d0570 = L.marker(\n",
              "                [32.052, 34.757],\n",
              "                {}\n",
              "            ).addTo(map_46d46f2692727bb4ae16aeefccae3d6d);\n",
              "        \n",
              "    \n",
              "            var icon_42262c48c0c50814e2b4a1342d6e8447 = L.AwesomeMarkers.icon(\n",
              "                {&quot;extraClasses&quot;: &quot;fa-rotate-0&quot;, &quot;icon&quot;: &quot;info-sign&quot;, &quot;iconColor&quot;: &quot;white&quot;, &quot;markerColor&quot;: &quot;blue&quot;, &quot;prefix&quot;: &quot;fa&quot;}\n",
              "            );\n",
              "            marker_b6b006687ee802f197170eb7719d0570.setIcon(icon_42262c48c0c50814e2b4a1342d6e8447);\n",
              "        \n",
              "    \n",
              "        var popup_b6155bba3348424ee5a232003aa1ca90 = L.popup({&quot;maxWidth&quot;: &quot;100%&quot;});\n",
              "\n",
              "        \n",
              "            var html_65e757bc7d7004da6e73277bc5aee732 = $(`&lt;div id=&quot;html_65e757bc7d7004da6e73277bc5aee732&quot; style=&quot;width: 100.0%; height: 100.0%;&quot;&gt;(32.052,34.757)&lt;/div&gt;`)[0];\n",
              "            popup_b6155bba3348424ee5a232003aa1ca90.setContent(html_65e757bc7d7004da6e73277bc5aee732);\n",
              "        \n",
              "\n",
              "        marker_b6b006687ee802f197170eb7719d0570.bindPopup(popup_b6155bba3348424ee5a232003aa1ca90)\n",
              "        ;\n",
              "\n",
              "        \n",
              "    \n",
              "    \n",
              "            var marker_0b1b29ec74f281ffa8fec9a6722fca8d = L.marker(\n",
              "                [32.107, 34.836],\n",
              "                {}\n",
              "            ).addTo(map_46d46f2692727bb4ae16aeefccae3d6d);\n",
              "        \n",
              "    \n",
              "            var icon_d3b5f7b57fd82861932caec77e2e7d8b = L.AwesomeMarkers.icon(\n",
              "                {&quot;extraClasses&quot;: &quot;fa-rotate-0&quot;, &quot;icon&quot;: &quot;info-sign&quot;, &quot;iconColor&quot;: &quot;white&quot;, &quot;markerColor&quot;: &quot;green&quot;, &quot;prefix&quot;: &quot;fa&quot;}\n",
              "            );\n",
              "            marker_0b1b29ec74f281ffa8fec9a6722fca8d.setIcon(icon_d3b5f7b57fd82861932caec77e2e7d8b);\n",
              "        \n",
              "    \n",
              "        var popup_34b42681c9182270248d6f07ec1fed9e = L.popup({&quot;maxWidth&quot;: &quot;100%&quot;});\n",
              "\n",
              "        \n",
              "            var html_34a6909d9bc7526421372b226e46d676 = $(`&lt;div id=&quot;html_34a6909d9bc7526421372b226e46d676&quot; style=&quot;width: 100.0%; height: 100.0%;&quot;&gt;(32.107,34.836)&lt;/div&gt;`)[0];\n",
              "            popup_34b42681c9182270248d6f07ec1fed9e.setContent(html_34a6909d9bc7526421372b226e46d676);\n",
              "        \n",
              "\n",
              "        marker_0b1b29ec74f281ffa8fec9a6722fca8d.bindPopup(popup_34b42681c9182270248d6f07ec1fed9e)\n",
              "        ;\n",
              "\n",
              "        \n",
              "    \n",
              "    \n",
              "            var marker_28cdb22ec12d37a3b4fc9e769d8039d1 = L.marker(\n",
              "                [32.062, 34.781],\n",
              "                {}\n",
              "            ).addTo(map_46d46f2692727bb4ae16aeefccae3d6d);\n",
              "        \n",
              "    \n",
              "            var icon_ee9c2d8f875340c0ac9357a02a7447b1 = L.AwesomeMarkers.icon(\n",
              "                {&quot;extraClasses&quot;: &quot;fa-rotate-0&quot;, &quot;icon&quot;: &quot;info-sign&quot;, &quot;iconColor&quot;: &quot;white&quot;, &quot;markerColor&quot;: &quot;green&quot;, &quot;prefix&quot;: &quot;fa&quot;}\n",
              "            );\n",
              "            marker_28cdb22ec12d37a3b4fc9e769d8039d1.setIcon(icon_ee9c2d8f875340c0ac9357a02a7447b1);\n",
              "        \n",
              "    \n",
              "        var popup_1e5aa7a51ada7b58e2f9ccbe373d9db2 = L.popup({&quot;maxWidth&quot;: &quot;100%&quot;});\n",
              "\n",
              "        \n",
              "            var html_131e557974a1b0204ee026c045a1ffc1 = $(`&lt;div id=&quot;html_131e557974a1b0204ee026c045a1ffc1&quot; style=&quot;width: 100.0%; height: 100.0%;&quot;&gt;(32.062,34.781)&lt;/div&gt;`)[0];\n",
              "            popup_1e5aa7a51ada7b58e2f9ccbe373d9db2.setContent(html_131e557974a1b0204ee026c045a1ffc1);\n",
              "        \n",
              "\n",
              "        marker_28cdb22ec12d37a3b4fc9e769d8039d1.bindPopup(popup_1e5aa7a51ada7b58e2f9ccbe373d9db2)\n",
              "        ;\n",
              "\n",
              "        \n",
              "    \n",
              "    \n",
              "            var marker_4dd8350bfbdb04457d5e933da97eba69 = L.marker(\n",
              "                [32.107, 34.833],\n",
              "                {}\n",
              "            ).addTo(map_46d46f2692727bb4ae16aeefccae3d6d);\n",
              "        \n",
              "    \n",
              "            var icon_4b99389773f1217c8fe487109de6bf07 = L.AwesomeMarkers.icon(\n",
              "                {&quot;extraClasses&quot;: &quot;fa-rotate-0&quot;, &quot;icon&quot;: &quot;info-sign&quot;, &quot;iconColor&quot;: &quot;white&quot;, &quot;markerColor&quot;: &quot;green&quot;, &quot;prefix&quot;: &quot;fa&quot;}\n",
              "            );\n",
              "            marker_4dd8350bfbdb04457d5e933da97eba69.setIcon(icon_4b99389773f1217c8fe487109de6bf07);\n",
              "        \n",
              "    \n",
              "        var popup_4b4e4648241bab71704b7297e5d6b1c6 = L.popup({&quot;maxWidth&quot;: &quot;100%&quot;});\n",
              "\n",
              "        \n",
              "            var html_56dbee0934c6e7fe24152d000176a7a0 = $(`&lt;div id=&quot;html_56dbee0934c6e7fe24152d000176a7a0&quot; style=&quot;width: 100.0%; height: 100.0%;&quot;&gt;(32.107,34.833)&lt;/div&gt;`)[0];\n",
              "            popup_4b4e4648241bab71704b7297e5d6b1c6.setContent(html_56dbee0934c6e7fe24152d000176a7a0);\n",
              "        \n",
              "\n",
              "        marker_4dd8350bfbdb04457d5e933da97eba69.bindPopup(popup_4b4e4648241bab71704b7297e5d6b1c6)\n",
              "        ;\n",
              "\n",
              "        \n",
              "    \n",
              "    \n",
              "            var marker_117c953f1f152423bec6fda3896c701d = L.marker(\n",
              "                [32.06, 34.762],\n",
              "                {}\n",
              "            ).addTo(map_46d46f2692727bb4ae16aeefccae3d6d);\n",
              "        \n",
              "    \n",
              "            var icon_64788fe8a0175c2dd776854c23b4036a = L.AwesomeMarkers.icon(\n",
              "                {&quot;extraClasses&quot;: &quot;fa-rotate-0&quot;, &quot;icon&quot;: &quot;info-sign&quot;, &quot;iconColor&quot;: &quot;white&quot;, &quot;markerColor&quot;: &quot;green&quot;, &quot;prefix&quot;: &quot;fa&quot;}\n",
              "            );\n",
              "            marker_117c953f1f152423bec6fda3896c701d.setIcon(icon_64788fe8a0175c2dd776854c23b4036a);\n",
              "        \n",
              "    \n",
              "        var popup_c0f515c25d1d8e149a855dc896f66f0b = L.popup({&quot;maxWidth&quot;: &quot;100%&quot;});\n",
              "\n",
              "        \n",
              "            var html_714fcbe4f3c44a50c94b2117cf38e792 = $(`&lt;div id=&quot;html_714fcbe4f3c44a50c94b2117cf38e792&quot; style=&quot;width: 100.0%; height: 100.0%;&quot;&gt;(32.06,34.762)&lt;/div&gt;`)[0];\n",
              "            popup_c0f515c25d1d8e149a855dc896f66f0b.setContent(html_714fcbe4f3c44a50c94b2117cf38e792);\n",
              "        \n",
              "\n",
              "        marker_117c953f1f152423bec6fda3896c701d.bindPopup(popup_c0f515c25d1d8e149a855dc896f66f0b)\n",
              "        ;\n",
              "\n",
              "        \n",
              "    \n",
              "    \n",
              "            var marker_c808af6bbc12ec3cbb8f28a8025bedc9 = L.marker(\n",
              "                [32.075, 34.798],\n",
              "                {}\n",
              "            ).addTo(map_46d46f2692727bb4ae16aeefccae3d6d);\n",
              "        \n",
              "    \n",
              "            var icon_75e40761c53dbfa8a3c00da26fd58231 = L.AwesomeMarkers.icon(\n",
              "                {&quot;extraClasses&quot;: &quot;fa-rotate-0&quot;, &quot;icon&quot;: &quot;info-sign&quot;, &quot;iconColor&quot;: &quot;white&quot;, &quot;markerColor&quot;: &quot;green&quot;, &quot;prefix&quot;: &quot;fa&quot;}\n",
              "            );\n",
              "            marker_c808af6bbc12ec3cbb8f28a8025bedc9.setIcon(icon_75e40761c53dbfa8a3c00da26fd58231);\n",
              "        \n",
              "    \n",
              "        var popup_903ee75e275fea7e987557f16cff04b3 = L.popup({&quot;maxWidth&quot;: &quot;100%&quot;});\n",
              "\n",
              "        \n",
              "            var html_765f5ba6d35ede41454131243e97a3a6 = $(`&lt;div id=&quot;html_765f5ba6d35ede41454131243e97a3a6&quot; style=&quot;width: 100.0%; height: 100.0%;&quot;&gt;(32.075,34.798)&lt;/div&gt;`)[0];\n",
              "            popup_903ee75e275fea7e987557f16cff04b3.setContent(html_765f5ba6d35ede41454131243e97a3a6);\n",
              "        \n",
              "\n",
              "        marker_c808af6bbc12ec3cbb8f28a8025bedc9.bindPopup(popup_903ee75e275fea7e987557f16cff04b3)\n",
              "        ;\n",
              "\n",
              "        \n",
              "    \n",
              "    \n",
              "            var marker_bb4515036d88ebfcb339f76bfb784267 = L.marker(\n",
              "                [32.122, 34.818],\n",
              "                {}\n",
              "            ).addTo(map_46d46f2692727bb4ae16aeefccae3d6d);\n",
              "        \n",
              "    \n",
              "            var icon_7634355f4b6541014a129e65f78e5a9e = L.AwesomeMarkers.icon(\n",
              "                {&quot;extraClasses&quot;: &quot;fa-rotate-0&quot;, &quot;icon&quot;: &quot;info-sign&quot;, &quot;iconColor&quot;: &quot;white&quot;, &quot;markerColor&quot;: &quot;green&quot;, &quot;prefix&quot;: &quot;fa&quot;}\n",
              "            );\n",
              "            marker_bb4515036d88ebfcb339f76bfb784267.setIcon(icon_7634355f4b6541014a129e65f78e5a9e);\n",
              "        \n",
              "    \n",
              "        var popup_7383c2236b770ab7d7ba36b38bfaa7ab = L.popup({&quot;maxWidth&quot;: &quot;100%&quot;});\n",
              "\n",
              "        \n",
              "            var html_48f5a732cda8b3e5d1718f9e7b0eb9f1 = $(`&lt;div id=&quot;html_48f5a732cda8b3e5d1718f9e7b0eb9f1&quot; style=&quot;width: 100.0%; height: 100.0%;&quot;&gt;(32.122,34.818)&lt;/div&gt;`)[0];\n",
              "            popup_7383c2236b770ab7d7ba36b38bfaa7ab.setContent(html_48f5a732cda8b3e5d1718f9e7b0eb9f1);\n",
              "        \n",
              "\n",
              "        marker_bb4515036d88ebfcb339f76bfb784267.bindPopup(popup_7383c2236b770ab7d7ba36b38bfaa7ab)\n",
              "        ;\n",
              "\n",
              "        \n",
              "    \n",
              "    \n",
              "            var marker_921e6df8b3d0df692d66836b59d25fd4 = L.marker(\n",
              "                [32.143, 34.792],\n",
              "                {}\n",
              "            ).addTo(map_46d46f2692727bb4ae16aeefccae3d6d);\n",
              "        \n",
              "    \n",
              "            var icon_113bd0c7a47983efd4d1b7db991bd116 = L.AwesomeMarkers.icon(\n",
              "                {&quot;extraClasses&quot;: &quot;fa-rotate-0&quot;, &quot;icon&quot;: &quot;info-sign&quot;, &quot;iconColor&quot;: &quot;white&quot;, &quot;markerColor&quot;: &quot;orange&quot;, &quot;prefix&quot;: &quot;fa&quot;}\n",
              "            );\n",
              "            marker_921e6df8b3d0df692d66836b59d25fd4.setIcon(icon_113bd0c7a47983efd4d1b7db991bd116);\n",
              "        \n",
              "    \n",
              "        var popup_3413cba191f4bb3f9708a237a2f8becd = L.popup({&quot;maxWidth&quot;: &quot;100%&quot;});\n",
              "\n",
              "        \n",
              "            var html_79d064d3c007177f55c025a0d7881590 = $(`&lt;div id=&quot;html_79d064d3c007177f55c025a0d7881590&quot; style=&quot;width: 100.0%; height: 100.0%;&quot;&gt;(32.143,34.792)&lt;/div&gt;`)[0];\n",
              "            popup_3413cba191f4bb3f9708a237a2f8becd.setContent(html_79d064d3c007177f55c025a0d7881590);\n",
              "        \n",
              "\n",
              "        marker_921e6df8b3d0df692d66836b59d25fd4.bindPopup(popup_3413cba191f4bb3f9708a237a2f8becd)\n",
              "        ;\n",
              "\n",
              "        \n",
              "    \n",
              "    \n",
              "            var marker_5beb7a16035e0671a6429b9767598680 = L.marker(\n",
              "                [32.048, 34.765],\n",
              "                {}\n",
              "            ).addTo(map_46d46f2692727bb4ae16aeefccae3d6d);\n",
              "        \n",
              "    \n",
              "            var icon_2682056ce59e38fddd07d126cb05ba3e = L.AwesomeMarkers.icon(\n",
              "                {&quot;extraClasses&quot;: &quot;fa-rotate-0&quot;, &quot;icon&quot;: &quot;info-sign&quot;, &quot;iconColor&quot;: &quot;white&quot;, &quot;markerColor&quot;: &quot;orange&quot;, &quot;prefix&quot;: &quot;fa&quot;}\n",
              "            );\n",
              "            marker_5beb7a16035e0671a6429b9767598680.setIcon(icon_2682056ce59e38fddd07d126cb05ba3e);\n",
              "        \n",
              "    \n",
              "        var popup_4f010c86a22cfac819287f0d3f47bd9e = L.popup({&quot;maxWidth&quot;: &quot;100%&quot;});\n",
              "\n",
              "        \n",
              "            var html_8ff182702e542189268cc1f260e1c19b = $(`&lt;div id=&quot;html_8ff182702e542189268cc1f260e1c19b&quot; style=&quot;width: 100.0%; height: 100.0%;&quot;&gt;(32.048,34.765)&lt;/div&gt;`)[0];\n",
              "            popup_4f010c86a22cfac819287f0d3f47bd9e.setContent(html_8ff182702e542189268cc1f260e1c19b);\n",
              "        \n",
              "\n",
              "        marker_5beb7a16035e0671a6429b9767598680.bindPopup(popup_4f010c86a22cfac819287f0d3f47bd9e)\n",
              "        ;\n",
              "\n",
              "        \n",
              "    \n",
              "    \n",
              "            var marker_73fbc91383f9c78b3fe99fa0240d9672 = L.marker(\n",
              "                [32.124, 34.812],\n",
              "                {}\n",
              "            ).addTo(map_46d46f2692727bb4ae16aeefccae3d6d);\n",
              "        \n",
              "    \n",
              "            var icon_3efe18f144123461b953253a69da6a94 = L.AwesomeMarkers.icon(\n",
              "                {&quot;extraClasses&quot;: &quot;fa-rotate-0&quot;, &quot;icon&quot;: &quot;info-sign&quot;, &quot;iconColor&quot;: &quot;white&quot;, &quot;markerColor&quot;: &quot;green&quot;, &quot;prefix&quot;: &quot;fa&quot;}\n",
              "            );\n",
              "            marker_73fbc91383f9c78b3fe99fa0240d9672.setIcon(icon_3efe18f144123461b953253a69da6a94);\n",
              "        \n",
              "    \n",
              "        var popup_05728854909d23280f26d40090722cb5 = L.popup({&quot;maxWidth&quot;: &quot;100%&quot;});\n",
              "\n",
              "        \n",
              "            var html_883a9edc8b2df9912df5a63b0f90691e = $(`&lt;div id=&quot;html_883a9edc8b2df9912df5a63b0f90691e&quot; style=&quot;width: 100.0%; height: 100.0%;&quot;&gt;(32.124,34.812)&lt;/div&gt;`)[0];\n",
              "            popup_05728854909d23280f26d40090722cb5.setContent(html_883a9edc8b2df9912df5a63b0f90691e);\n",
              "        \n",
              "\n",
              "        marker_73fbc91383f9c78b3fe99fa0240d9672.bindPopup(popup_05728854909d23280f26d40090722cb5)\n",
              "        ;\n",
              "\n",
              "        \n",
              "    \n",
              "    \n",
              "            var marker_60bd8753af15923e308b6242575112aa = L.marker(\n",
              "                [32.057, 34.767],\n",
              "                {}\n",
              "            ).addTo(map_46d46f2692727bb4ae16aeefccae3d6d);\n",
              "        \n",
              "    \n",
              "            var icon_bd8523ea3dbb8da1867a9ba1a826bfcd = L.AwesomeMarkers.icon(\n",
              "                {&quot;extraClasses&quot;: &quot;fa-rotate-0&quot;, &quot;icon&quot;: &quot;info-sign&quot;, &quot;iconColor&quot;: &quot;white&quot;, &quot;markerColor&quot;: &quot;orange&quot;, &quot;prefix&quot;: &quot;fa&quot;}\n",
              "            );\n",
              "            marker_60bd8753af15923e308b6242575112aa.setIcon(icon_bd8523ea3dbb8da1867a9ba1a826bfcd);\n",
              "        \n",
              "    \n",
              "        var popup_dce421674a6f1e98963ed3635b0647f3 = L.popup({&quot;maxWidth&quot;: &quot;100%&quot;});\n",
              "\n",
              "        \n",
              "            var html_6f6c473b274f262c60adf913d397c6b4 = $(`&lt;div id=&quot;html_6f6c473b274f262c60adf913d397c6b4&quot; style=&quot;width: 100.0%; height: 100.0%;&quot;&gt;(32.057,34.767)&lt;/div&gt;`)[0];\n",
              "            popup_dce421674a6f1e98963ed3635b0647f3.setContent(html_6f6c473b274f262c60adf913d397c6b4);\n",
              "        \n",
              "\n",
              "        marker_60bd8753af15923e308b6242575112aa.bindPopup(popup_dce421674a6f1e98963ed3635b0647f3)\n",
              "        ;\n",
              "\n",
              "        \n",
              "    \n",
              "    \n",
              "            var marker_1ec7d6a63cab6fe4cfe255c4cd6b4216 = L.marker(\n",
              "                [32.14, 34.792],\n",
              "                {}\n",
              "            ).addTo(map_46d46f2692727bb4ae16aeefccae3d6d);\n",
              "        \n",
              "    \n",
              "            var icon_8102c8cc204d235dc92940c1579ff398 = L.AwesomeMarkers.icon(\n",
              "                {&quot;extraClasses&quot;: &quot;fa-rotate-0&quot;, &quot;icon&quot;: &quot;info-sign&quot;, &quot;iconColor&quot;: &quot;white&quot;, &quot;markerColor&quot;: &quot;green&quot;, &quot;prefix&quot;: &quot;fa&quot;}\n",
              "            );\n",
              "            marker_1ec7d6a63cab6fe4cfe255c4cd6b4216.setIcon(icon_8102c8cc204d235dc92940c1579ff398);\n",
              "        \n",
              "    \n",
              "        var popup_67c7db5af70dc4dd7c2abee13e9dcdf9 = L.popup({&quot;maxWidth&quot;: &quot;100%&quot;});\n",
              "\n",
              "        \n",
              "            var html_d2f1c86852da1bd8f84e3ceb1077a1c3 = $(`&lt;div id=&quot;html_d2f1c86852da1bd8f84e3ceb1077a1c3&quot; style=&quot;width: 100.0%; height: 100.0%;&quot;&gt;(32.14,34.792)&lt;/div&gt;`)[0];\n",
              "            popup_67c7db5af70dc4dd7c2abee13e9dcdf9.setContent(html_d2f1c86852da1bd8f84e3ceb1077a1c3);\n",
              "        \n",
              "\n",
              "        marker_1ec7d6a63cab6fe4cfe255c4cd6b4216.bindPopup(popup_67c7db5af70dc4dd7c2abee13e9dcdf9)\n",
              "        ;\n",
              "\n",
              "        \n",
              "    \n",
              "    \n",
              "            var marker_10caec6826983fc0f9c6f5c8cc95d9bc = L.marker(\n",
              "                [32.062, 34.767],\n",
              "                {}\n",
              "            ).addTo(map_46d46f2692727bb4ae16aeefccae3d6d);\n",
              "        \n",
              "    \n",
              "            var icon_218fb277d14d188843808f06b886b1b9 = L.AwesomeMarkers.icon(\n",
              "                {&quot;extraClasses&quot;: &quot;fa-rotate-0&quot;, &quot;icon&quot;: &quot;info-sign&quot;, &quot;iconColor&quot;: &quot;white&quot;, &quot;markerColor&quot;: &quot;orange&quot;, &quot;prefix&quot;: &quot;fa&quot;}\n",
              "            );\n",
              "            marker_10caec6826983fc0f9c6f5c8cc95d9bc.setIcon(icon_218fb277d14d188843808f06b886b1b9);\n",
              "        \n",
              "    \n",
              "        var popup_8145f9a1443cf4db04d289361c7f3c59 = L.popup({&quot;maxWidth&quot;: &quot;100%&quot;});\n",
              "\n",
              "        \n",
              "            var html_d818355f3d09abb9781aa5a7fd3359d1 = $(`&lt;div id=&quot;html_d818355f3d09abb9781aa5a7fd3359d1&quot; style=&quot;width: 100.0%; height: 100.0%;&quot;&gt;(32.062,34.767)&lt;/div&gt;`)[0];\n",
              "            popup_8145f9a1443cf4db04d289361c7f3c59.setContent(html_d818355f3d09abb9781aa5a7fd3359d1);\n",
              "        \n",
              "\n",
              "        marker_10caec6826983fc0f9c6f5c8cc95d9bc.bindPopup(popup_8145f9a1443cf4db04d289361c7f3c59)\n",
              "        ;\n",
              "\n",
              "        \n",
              "    \n",
              "    \n",
              "            var marker_aea4ae7a7958ececb5147cd0135fc54e = L.marker(\n",
              "                [32.058, 34.81],\n",
              "                {}\n",
              "            ).addTo(map_46d46f2692727bb4ae16aeefccae3d6d);\n",
              "        \n",
              "    \n",
              "            var icon_46cc0ca8e1e3280ed4b0db4ad5f0b2c0 = L.AwesomeMarkers.icon(\n",
              "                {&quot;extraClasses&quot;: &quot;fa-rotate-0&quot;, &quot;icon&quot;: &quot;info-sign&quot;, &quot;iconColor&quot;: &quot;white&quot;, &quot;markerColor&quot;: &quot;orange&quot;, &quot;prefix&quot;: &quot;fa&quot;}\n",
              "            );\n",
              "            marker_aea4ae7a7958ececb5147cd0135fc54e.setIcon(icon_46cc0ca8e1e3280ed4b0db4ad5f0b2c0);\n",
              "        \n",
              "    \n",
              "        var popup_62827ec9a27ae3aa3ae11cf475a56b4f = L.popup({&quot;maxWidth&quot;: &quot;100%&quot;});\n",
              "\n",
              "        \n",
              "            var html_235194529cc1e513ece44cc0056bed8a = $(`&lt;div id=&quot;html_235194529cc1e513ece44cc0056bed8a&quot; style=&quot;width: 100.0%; height: 100.0%;&quot;&gt;(32.058,34.81)&lt;/div&gt;`)[0];\n",
              "            popup_62827ec9a27ae3aa3ae11cf475a56b4f.setContent(html_235194529cc1e513ece44cc0056bed8a);\n",
              "        \n",
              "\n",
              "        marker_aea4ae7a7958ececb5147cd0135fc54e.bindPopup(popup_62827ec9a27ae3aa3ae11cf475a56b4f)\n",
              "        ;\n",
              "\n",
              "        \n",
              "    \n",
              "    \n",
              "            var marker_bbfd936ec9eb94a25141dc07821e7322 = L.marker(\n",
              "                [32.053, 34.781],\n",
              "                {}\n",
              "            ).addTo(map_46d46f2692727bb4ae16aeefccae3d6d);\n",
              "        \n",
              "    \n",
              "            var icon_3e8731cb57850112a06804b734413835 = L.AwesomeMarkers.icon(\n",
              "                {&quot;extraClasses&quot;: &quot;fa-rotate-0&quot;, &quot;icon&quot;: &quot;info-sign&quot;, &quot;iconColor&quot;: &quot;white&quot;, &quot;markerColor&quot;: &quot;green&quot;, &quot;prefix&quot;: &quot;fa&quot;}\n",
              "            );\n",
              "            marker_bbfd936ec9eb94a25141dc07821e7322.setIcon(icon_3e8731cb57850112a06804b734413835);\n",
              "        \n",
              "    \n",
              "        var popup_ee7c2d5bf418925d44323131ef47166c = L.popup({&quot;maxWidth&quot;: &quot;100%&quot;});\n",
              "\n",
              "        \n",
              "            var html_4410322d74b4b4c02470b98d0fd20afc = $(`&lt;div id=&quot;html_4410322d74b4b4c02470b98d0fd20afc&quot; style=&quot;width: 100.0%; height: 100.0%;&quot;&gt;(32.053,34.781)&lt;/div&gt;`)[0];\n",
              "            popup_ee7c2d5bf418925d44323131ef47166c.setContent(html_4410322d74b4b4c02470b98d0fd20afc);\n",
              "        \n",
              "\n",
              "        marker_bbfd936ec9eb94a25141dc07821e7322.bindPopup(popup_ee7c2d5bf418925d44323131ef47166c)\n",
              "        ;\n",
              "\n",
              "        \n",
              "    \n",
              "    \n",
              "            var marker_84821802ca3d817869174390826ddf69 = L.marker(\n",
              "                [32.114, 34.842],\n",
              "                {}\n",
              "            ).addTo(map_46d46f2692727bb4ae16aeefccae3d6d);\n",
              "        \n",
              "    \n",
              "            var icon_047fe893d8c54da7f8646235477b824d = L.AwesomeMarkers.icon(\n",
              "                {&quot;extraClasses&quot;: &quot;fa-rotate-0&quot;, &quot;icon&quot;: &quot;info-sign&quot;, &quot;iconColor&quot;: &quot;white&quot;, &quot;markerColor&quot;: &quot;orange&quot;, &quot;prefix&quot;: &quot;fa&quot;}\n",
              "            );\n",
              "            marker_84821802ca3d817869174390826ddf69.setIcon(icon_047fe893d8c54da7f8646235477b824d);\n",
              "        \n",
              "    \n",
              "        var popup_b9c33d4e620ac9007745c8bfd03eebe0 = L.popup({&quot;maxWidth&quot;: &quot;100%&quot;});\n",
              "\n",
              "        \n",
              "            var html_1cb17d04539b9b0ad750725f04cb2af8 = $(`&lt;div id=&quot;html_1cb17d04539b9b0ad750725f04cb2af8&quot; style=&quot;width: 100.0%; height: 100.0%;&quot;&gt;(32.114,34.842)&lt;/div&gt;`)[0];\n",
              "            popup_b9c33d4e620ac9007745c8bfd03eebe0.setContent(html_1cb17d04539b9b0ad750725f04cb2af8);\n",
              "        \n",
              "\n",
              "        marker_84821802ca3d817869174390826ddf69.bindPopup(popup_b9c33d4e620ac9007745c8bfd03eebe0)\n",
              "        ;\n",
              "\n",
              "        \n",
              "    \n",
              "    \n",
              "            var marker_b9a01d4b4562e977f4efab6e22fd70cd = L.marker(\n",
              "                [32.107, 34.821],\n",
              "                {}\n",
              "            ).addTo(map_46d46f2692727bb4ae16aeefccae3d6d);\n",
              "        \n",
              "    \n",
              "            var icon_8136cfb7f54c4cabcec4cbaf101e84eb = L.AwesomeMarkers.icon(\n",
              "                {&quot;extraClasses&quot;: &quot;fa-rotate-0&quot;, &quot;icon&quot;: &quot;info-sign&quot;, &quot;iconColor&quot;: &quot;white&quot;, &quot;markerColor&quot;: &quot;green&quot;, &quot;prefix&quot;: &quot;fa&quot;}\n",
              "            );\n",
              "            marker_b9a01d4b4562e977f4efab6e22fd70cd.setIcon(icon_8136cfb7f54c4cabcec4cbaf101e84eb);\n",
              "        \n",
              "    \n",
              "        var popup_54b1f629d483bb104ba906eb02e8391a = L.popup({&quot;maxWidth&quot;: &quot;100%&quot;});\n",
              "\n",
              "        \n",
              "            var html_3e5fdef0b8444330d3d98d12c927a9a2 = $(`&lt;div id=&quot;html_3e5fdef0b8444330d3d98d12c927a9a2&quot; style=&quot;width: 100.0%; height: 100.0%;&quot;&gt;(32.107,34.821)&lt;/div&gt;`)[0];\n",
              "            popup_54b1f629d483bb104ba906eb02e8391a.setContent(html_3e5fdef0b8444330d3d98d12c927a9a2);\n",
              "        \n",
              "\n",
              "        marker_b9a01d4b4562e977f4efab6e22fd70cd.bindPopup(popup_54b1f629d483bb104ba906eb02e8391a)\n",
              "        ;\n",
              "\n",
              "        \n",
              "    \n",
              "    \n",
              "            var marker_35ea452d123524d4cd0cb40656c2d957 = L.marker(\n",
              "                [32.114, 34.819],\n",
              "                {}\n",
              "            ).addTo(map_46d46f2692727bb4ae16aeefccae3d6d);\n",
              "        \n",
              "    \n",
              "            var icon_1a72fc16bf47e34dd2a2b2d48dd74d71 = L.AwesomeMarkers.icon(\n",
              "                {&quot;extraClasses&quot;: &quot;fa-rotate-0&quot;, &quot;icon&quot;: &quot;info-sign&quot;, &quot;iconColor&quot;: &quot;white&quot;, &quot;markerColor&quot;: &quot;orange&quot;, &quot;prefix&quot;: &quot;fa&quot;}\n",
              "            );\n",
              "            marker_35ea452d123524d4cd0cb40656c2d957.setIcon(icon_1a72fc16bf47e34dd2a2b2d48dd74d71);\n",
              "        \n",
              "    \n",
              "        var popup_004a60affc6c040337e4a1f362e3fc65 = L.popup({&quot;maxWidth&quot;: &quot;100%&quot;});\n",
              "\n",
              "        \n",
              "            var html_9570b099fbbd4e157d95806d3315bbab = $(`&lt;div id=&quot;html_9570b099fbbd4e157d95806d3315bbab&quot; style=&quot;width: 100.0%; height: 100.0%;&quot;&gt;(32.114,34.819)&lt;/div&gt;`)[0];\n",
              "            popup_004a60affc6c040337e4a1f362e3fc65.setContent(html_9570b099fbbd4e157d95806d3315bbab);\n",
              "        \n",
              "\n",
              "        marker_35ea452d123524d4cd0cb40656c2d957.bindPopup(popup_004a60affc6c040337e4a1f362e3fc65)\n",
              "        ;\n",
              "\n",
              "        \n",
              "    \n",
              "    \n",
              "            var marker_0785a89c5c4a57018977871b83b85f4a = L.marker(\n",
              "                [32.056, 34.784],\n",
              "                {}\n",
              "            ).addTo(map_46d46f2692727bb4ae16aeefccae3d6d);\n",
              "        \n",
              "    \n",
              "            var icon_48733d967d1c239ea3830c14901801b8 = L.AwesomeMarkers.icon(\n",
              "                {&quot;extraClasses&quot;: &quot;fa-rotate-0&quot;, &quot;icon&quot;: &quot;info-sign&quot;, &quot;iconColor&quot;: &quot;white&quot;, &quot;markerColor&quot;: &quot;green&quot;, &quot;prefix&quot;: &quot;fa&quot;}\n",
              "            );\n",
              "            marker_0785a89c5c4a57018977871b83b85f4a.setIcon(icon_48733d967d1c239ea3830c14901801b8);\n",
              "        \n",
              "    \n",
              "        var popup_ab434ecd9afaed4c60e6dec8002e886e = L.popup({&quot;maxWidth&quot;: &quot;100%&quot;});\n",
              "\n",
              "        \n",
              "            var html_3cd4acbcfdb5e8c06ec84da3afcb424b = $(`&lt;div id=&quot;html_3cd4acbcfdb5e8c06ec84da3afcb424b&quot; style=&quot;width: 100.0%; height: 100.0%;&quot;&gt;(32.056,34.784)&lt;/div&gt;`)[0];\n",
              "            popup_ab434ecd9afaed4c60e6dec8002e886e.setContent(html_3cd4acbcfdb5e8c06ec84da3afcb424b);\n",
              "        \n",
              "\n",
              "        marker_0785a89c5c4a57018977871b83b85f4a.bindPopup(popup_ab434ecd9afaed4c60e6dec8002e886e)\n",
              "        ;\n",
              "\n",
              "        \n",
              "    \n",
              "    \n",
              "            var marker_f3a998e28d68f0882f4244cf81c55cf4 = L.marker(\n",
              "                [32.117, 34.797],\n",
              "                {}\n",
              "            ).addTo(map_46d46f2692727bb4ae16aeefccae3d6d);\n",
              "        \n",
              "    \n",
              "            var icon_980cbe68a07c1ad0d41729635c6e0510 = L.AwesomeMarkers.icon(\n",
              "                {&quot;extraClasses&quot;: &quot;fa-rotate-0&quot;, &quot;icon&quot;: &quot;info-sign&quot;, &quot;iconColor&quot;: &quot;white&quot;, &quot;markerColor&quot;: &quot;green&quot;, &quot;prefix&quot;: &quot;fa&quot;}\n",
              "            );\n",
              "            marker_f3a998e28d68f0882f4244cf81c55cf4.setIcon(icon_980cbe68a07c1ad0d41729635c6e0510);\n",
              "        \n",
              "    \n",
              "        var popup_a5530d4e91f5bc24936f93393d71d3c2 = L.popup({&quot;maxWidth&quot;: &quot;100%&quot;});\n",
              "\n",
              "        \n",
              "            var html_abe8e56bcdc42c3aa5d5e631a5bb9a98 = $(`&lt;div id=&quot;html_abe8e56bcdc42c3aa5d5e631a5bb9a98&quot; style=&quot;width: 100.0%; height: 100.0%;&quot;&gt;(32.117,34.797)&lt;/div&gt;`)[0];\n",
              "            popup_a5530d4e91f5bc24936f93393d71d3c2.setContent(html_abe8e56bcdc42c3aa5d5e631a5bb9a98);\n",
              "        \n",
              "\n",
              "        marker_f3a998e28d68f0882f4244cf81c55cf4.bindPopup(popup_a5530d4e91f5bc24936f93393d71d3c2)\n",
              "        ;\n",
              "\n",
              "        \n",
              "    \n",
              "    \n",
              "            var marker_f753cbe2e755085f7484f398cc32f86c = L.marker(\n",
              "                [32.116, 34.807],\n",
              "                {}\n",
              "            ).addTo(map_46d46f2692727bb4ae16aeefccae3d6d);\n",
              "        \n",
              "    \n",
              "            var icon_9397ea7202fb710b5643a04196aee78e = L.AwesomeMarkers.icon(\n",
              "                {&quot;extraClasses&quot;: &quot;fa-rotate-0&quot;, &quot;icon&quot;: &quot;info-sign&quot;, &quot;iconColor&quot;: &quot;white&quot;, &quot;markerColor&quot;: &quot;green&quot;, &quot;prefix&quot;: &quot;fa&quot;}\n",
              "            );\n",
              "            marker_f753cbe2e755085f7484f398cc32f86c.setIcon(icon_9397ea7202fb710b5643a04196aee78e);\n",
              "        \n",
              "    \n",
              "        var popup_1b51a9c5dbe3a99aeba849731b74a94a = L.popup({&quot;maxWidth&quot;: &quot;100%&quot;});\n",
              "\n",
              "        \n",
              "            var html_c95d4a935b43eb4a6394de57ce01a2f1 = $(`&lt;div id=&quot;html_c95d4a935b43eb4a6394de57ce01a2f1&quot; style=&quot;width: 100.0%; height: 100.0%;&quot;&gt;(32.116,34.807)&lt;/div&gt;`)[0];\n",
              "            popup_1b51a9c5dbe3a99aeba849731b74a94a.setContent(html_c95d4a935b43eb4a6394de57ce01a2f1);\n",
              "        \n",
              "\n",
              "        marker_f753cbe2e755085f7484f398cc32f86c.bindPopup(popup_1b51a9c5dbe3a99aeba849731b74a94a)\n",
              "        ;\n",
              "\n",
              "        \n",
              "    \n",
              "    \n",
              "            var marker_b5c477a2ad2b5b2b9dd44653a8d4a6e4 = L.marker(\n",
              "                [32.058, 34.764],\n",
              "                {}\n",
              "            ).addTo(map_46d46f2692727bb4ae16aeefccae3d6d);\n",
              "        \n",
              "    \n",
              "            var icon_061ddf0f276a96070a6b3e1387bb5e05 = L.AwesomeMarkers.icon(\n",
              "                {&quot;extraClasses&quot;: &quot;fa-rotate-0&quot;, &quot;icon&quot;: &quot;info-sign&quot;, &quot;iconColor&quot;: &quot;white&quot;, &quot;markerColor&quot;: &quot;green&quot;, &quot;prefix&quot;: &quot;fa&quot;}\n",
              "            );\n",
              "            marker_b5c477a2ad2b5b2b9dd44653a8d4a6e4.setIcon(icon_061ddf0f276a96070a6b3e1387bb5e05);\n",
              "        \n",
              "    \n",
              "        var popup_31aad19deadee9f52598272f1c1483f0 = L.popup({&quot;maxWidth&quot;: &quot;100%&quot;});\n",
              "\n",
              "        \n",
              "            var html_b379dc23880c25497d33e16318f6d5dc = $(`&lt;div id=&quot;html_b379dc23880c25497d33e16318f6d5dc&quot; style=&quot;width: 100.0%; height: 100.0%;&quot;&gt;(32.058,34.764)&lt;/div&gt;`)[0];\n",
              "            popup_31aad19deadee9f52598272f1c1483f0.setContent(html_b379dc23880c25497d33e16318f6d5dc);\n",
              "        \n",
              "\n",
              "        marker_b5c477a2ad2b5b2b9dd44653a8d4a6e4.bindPopup(popup_31aad19deadee9f52598272f1c1483f0)\n",
              "        ;\n",
              "\n",
              "        \n",
              "    \n",
              "    \n",
              "            var marker_78f27f60c9fade4933ff7663494d9ac3 = L.marker(\n",
              "                [32.111, 34.802],\n",
              "                {}\n",
              "            ).addTo(map_46d46f2692727bb4ae16aeefccae3d6d);\n",
              "        \n",
              "    \n",
              "            var icon_38275341ada8edf987240cb1857d5a54 = L.AwesomeMarkers.icon(\n",
              "                {&quot;extraClasses&quot;: &quot;fa-rotate-0&quot;, &quot;icon&quot;: &quot;info-sign&quot;, &quot;iconColor&quot;: &quot;white&quot;, &quot;markerColor&quot;: &quot;green&quot;, &quot;prefix&quot;: &quot;fa&quot;}\n",
              "            );\n",
              "            marker_78f27f60c9fade4933ff7663494d9ac3.setIcon(icon_38275341ada8edf987240cb1857d5a54);\n",
              "        \n",
              "    \n",
              "        var popup_7b2ce3507241001a3b255382f97f7857 = L.popup({&quot;maxWidth&quot;: &quot;100%&quot;});\n",
              "\n",
              "        \n",
              "            var html_29e9110b04e7885c13dd05d1daf1c536 = $(`&lt;div id=&quot;html_29e9110b04e7885c13dd05d1daf1c536&quot; style=&quot;width: 100.0%; height: 100.0%;&quot;&gt;(32.111,34.802)&lt;/div&gt;`)[0];\n",
              "            popup_7b2ce3507241001a3b255382f97f7857.setContent(html_29e9110b04e7885c13dd05d1daf1c536);\n",
              "        \n",
              "\n",
              "        marker_78f27f60c9fade4933ff7663494d9ac3.bindPopup(popup_7b2ce3507241001a3b255382f97f7857)\n",
              "        ;\n",
              "\n",
              "        \n",
              "    \n",
              "    \n",
              "            var marker_1af09409df263b5773f1c1a924089931 = L.marker(\n",
              "                [32.121, 34.794],\n",
              "                {}\n",
              "            ).addTo(map_46d46f2692727bb4ae16aeefccae3d6d);\n",
              "        \n",
              "    \n",
              "            var icon_7d5454cb1aab015c7b56a38492e99c97 = L.AwesomeMarkers.icon(\n",
              "                {&quot;extraClasses&quot;: &quot;fa-rotate-0&quot;, &quot;icon&quot;: &quot;info-sign&quot;, &quot;iconColor&quot;: &quot;white&quot;, &quot;markerColor&quot;: &quot;green&quot;, &quot;prefix&quot;: &quot;fa&quot;}\n",
              "            );\n",
              "            marker_1af09409df263b5773f1c1a924089931.setIcon(icon_7d5454cb1aab015c7b56a38492e99c97);\n",
              "        \n",
              "    \n",
              "        var popup_18f8d4337b245251cb5ac6a8c4292867 = L.popup({&quot;maxWidth&quot;: &quot;100%&quot;});\n",
              "\n",
              "        \n",
              "            var html_dadcfc0e99969fa6c09d8a94bc79c623 = $(`&lt;div id=&quot;html_dadcfc0e99969fa6c09d8a94bc79c623&quot; style=&quot;width: 100.0%; height: 100.0%;&quot;&gt;(32.121,34.794)&lt;/div&gt;`)[0];\n",
              "            popup_18f8d4337b245251cb5ac6a8c4292867.setContent(html_dadcfc0e99969fa6c09d8a94bc79c623);\n",
              "        \n",
              "\n",
              "        marker_1af09409df263b5773f1c1a924089931.bindPopup(popup_18f8d4337b245251cb5ac6a8c4292867)\n",
              "        ;\n",
              "\n",
              "        \n",
              "    \n",
              "    \n",
              "            var marker_b2f6fc7f6f67790b32b0d864e2f5d15e = L.marker(\n",
              "                [32.113, 34.796],\n",
              "                {}\n",
              "            ).addTo(map_46d46f2692727bb4ae16aeefccae3d6d);\n",
              "        \n",
              "    \n",
              "            var icon_c3aed28c77660be04afb35ade58b6358 = L.AwesomeMarkers.icon(\n",
              "                {&quot;extraClasses&quot;: &quot;fa-rotate-0&quot;, &quot;icon&quot;: &quot;info-sign&quot;, &quot;iconColor&quot;: &quot;white&quot;, &quot;markerColor&quot;: &quot;orange&quot;, &quot;prefix&quot;: &quot;fa&quot;}\n",
              "            );\n",
              "            marker_b2f6fc7f6f67790b32b0d864e2f5d15e.setIcon(icon_c3aed28c77660be04afb35ade58b6358);\n",
              "        \n",
              "    \n",
              "        var popup_11f22a3e6b1436119d1987a311376c07 = L.popup({&quot;maxWidth&quot;: &quot;100%&quot;});\n",
              "\n",
              "        \n",
              "            var html_1a1aea201b2ae6ea4068f776be2d4982 = $(`&lt;div id=&quot;html_1a1aea201b2ae6ea4068f776be2d4982&quot; style=&quot;width: 100.0%; height: 100.0%;&quot;&gt;(32.113,34.796)&lt;/div&gt;`)[0];\n",
              "            popup_11f22a3e6b1436119d1987a311376c07.setContent(html_1a1aea201b2ae6ea4068f776be2d4982);\n",
              "        \n",
              "\n",
              "        marker_b2f6fc7f6f67790b32b0d864e2f5d15e.bindPopup(popup_11f22a3e6b1436119d1987a311376c07)\n",
              "        ;\n",
              "\n",
              "        \n",
              "    \n",
              "    \n",
              "            var marker_39f95681935d7487b41fc119599451ab = L.marker(\n",
              "                [32.12, 34.821],\n",
              "                {}\n",
              "            ).addTo(map_46d46f2692727bb4ae16aeefccae3d6d);\n",
              "        \n",
              "    \n",
              "            var icon_77aaba6411f8e55196898eabb835a009 = L.AwesomeMarkers.icon(\n",
              "                {&quot;extraClasses&quot;: &quot;fa-rotate-0&quot;, &quot;icon&quot;: &quot;info-sign&quot;, &quot;iconColor&quot;: &quot;white&quot;, &quot;markerColor&quot;: &quot;green&quot;, &quot;prefix&quot;: &quot;fa&quot;}\n",
              "            );\n",
              "            marker_39f95681935d7487b41fc119599451ab.setIcon(icon_77aaba6411f8e55196898eabb835a009);\n",
              "        \n",
              "    \n",
              "        var popup_b9f64ba7e8be1aa2c611f80c56919477 = L.popup({&quot;maxWidth&quot;: &quot;100%&quot;});\n",
              "\n",
              "        \n",
              "            var html_0c410fe3bc4f1fea2cfc16e277623d99 = $(`&lt;div id=&quot;html_0c410fe3bc4f1fea2cfc16e277623d99&quot; style=&quot;width: 100.0%; height: 100.0%;&quot;&gt;(32.12,34.821)&lt;/div&gt;`)[0];\n",
              "            popup_b9f64ba7e8be1aa2c611f80c56919477.setContent(html_0c410fe3bc4f1fea2cfc16e277623d99);\n",
              "        \n",
              "\n",
              "        marker_39f95681935d7487b41fc119599451ab.bindPopup(popup_b9f64ba7e8be1aa2c611f80c56919477)\n",
              "        ;\n",
              "\n",
              "        \n",
              "    \n",
              "    \n",
              "            var marker_301e632aecb04b305b3c79e06e719438 = L.marker(\n",
              "                [32.055, 34.768],\n",
              "                {}\n",
              "            ).addTo(map_46d46f2692727bb4ae16aeefccae3d6d);\n",
              "        \n",
              "    \n",
              "            var icon_76ceb2227bb0504226e1a978879fd550 = L.AwesomeMarkers.icon(\n",
              "                {&quot;extraClasses&quot;: &quot;fa-rotate-0&quot;, &quot;icon&quot;: &quot;info-sign&quot;, &quot;iconColor&quot;: &quot;white&quot;, &quot;markerColor&quot;: &quot;green&quot;, &quot;prefix&quot;: &quot;fa&quot;}\n",
              "            );\n",
              "            marker_301e632aecb04b305b3c79e06e719438.setIcon(icon_76ceb2227bb0504226e1a978879fd550);\n",
              "        \n",
              "    \n",
              "        var popup_7c2fb3bdafc515d4be87e4ecb83c7d05 = L.popup({&quot;maxWidth&quot;: &quot;100%&quot;});\n",
              "\n",
              "        \n",
              "            var html_e9c8bfb27c54fbe99348892f25f4f846 = $(`&lt;div id=&quot;html_e9c8bfb27c54fbe99348892f25f4f846&quot; style=&quot;width: 100.0%; height: 100.0%;&quot;&gt;(32.055,34.768)&lt;/div&gt;`)[0];\n",
              "            popup_7c2fb3bdafc515d4be87e4ecb83c7d05.setContent(html_e9c8bfb27c54fbe99348892f25f4f846);\n",
              "        \n",
              "\n",
              "        marker_301e632aecb04b305b3c79e06e719438.bindPopup(popup_7c2fb3bdafc515d4be87e4ecb83c7d05)\n",
              "        ;\n",
              "\n",
              "        \n",
              "    \n",
              "    \n",
              "            var marker_a1755f3596fdda2226cb22899bba158d = L.marker(\n",
              "                [32.115, 34.791],\n",
              "                {}\n",
              "            ).addTo(map_46d46f2692727bb4ae16aeefccae3d6d);\n",
              "        \n",
              "    \n",
              "            var icon_f719f69c7c288d9f15f2c3d46f9fff50 = L.AwesomeMarkers.icon(\n",
              "                {&quot;extraClasses&quot;: &quot;fa-rotate-0&quot;, &quot;icon&quot;: &quot;info-sign&quot;, &quot;iconColor&quot;: &quot;white&quot;, &quot;markerColor&quot;: &quot;green&quot;, &quot;prefix&quot;: &quot;fa&quot;}\n",
              "            );\n",
              "            marker_a1755f3596fdda2226cb22899bba158d.setIcon(icon_f719f69c7c288d9f15f2c3d46f9fff50);\n",
              "        \n",
              "    \n",
              "        var popup_1a2ee291a62b8c2fbc6a29861b74213e = L.popup({&quot;maxWidth&quot;: &quot;100%&quot;});\n",
              "\n",
              "        \n",
              "            var html_53c7df204a44489f29c0a7fb547c0ede = $(`&lt;div id=&quot;html_53c7df204a44489f29c0a7fb547c0ede&quot; style=&quot;width: 100.0%; height: 100.0%;&quot;&gt;(32.115,34.791)&lt;/div&gt;`)[0];\n",
              "            popup_1a2ee291a62b8c2fbc6a29861b74213e.setContent(html_53c7df204a44489f29c0a7fb547c0ede);\n",
              "        \n",
              "\n",
              "        marker_a1755f3596fdda2226cb22899bba158d.bindPopup(popup_1a2ee291a62b8c2fbc6a29861b74213e)\n",
              "        ;\n",
              "\n",
              "        \n",
              "    \n",
              "    \n",
              "            var marker_28f8eafa5f76c799c3b6e12e129d5ceb = L.marker(\n",
              "                [32.118, 34.839],\n",
              "                {}\n",
              "            ).addTo(map_46d46f2692727bb4ae16aeefccae3d6d);\n",
              "        \n",
              "    \n",
              "            var icon_8f4ec09b096a3d52f9a4838b1ed9d963 = L.AwesomeMarkers.icon(\n",
              "                {&quot;extraClasses&quot;: &quot;fa-rotate-0&quot;, &quot;icon&quot;: &quot;info-sign&quot;, &quot;iconColor&quot;: &quot;white&quot;, &quot;markerColor&quot;: &quot;orange&quot;, &quot;prefix&quot;: &quot;fa&quot;}\n",
              "            );\n",
              "            marker_28f8eafa5f76c799c3b6e12e129d5ceb.setIcon(icon_8f4ec09b096a3d52f9a4838b1ed9d963);\n",
              "        \n",
              "    \n",
              "        var popup_901390399387aad0847dabd0a877fd0c = L.popup({&quot;maxWidth&quot;: &quot;100%&quot;});\n",
              "\n",
              "        \n",
              "            var html_41ebb75e0a24b17f525d77596911b5a3 = $(`&lt;div id=&quot;html_41ebb75e0a24b17f525d77596911b5a3&quot; style=&quot;width: 100.0%; height: 100.0%;&quot;&gt;(32.118,34.839)&lt;/div&gt;`)[0];\n",
              "            popup_901390399387aad0847dabd0a877fd0c.setContent(html_41ebb75e0a24b17f525d77596911b5a3);\n",
              "        \n",
              "\n",
              "        marker_28f8eafa5f76c799c3b6e12e129d5ceb.bindPopup(popup_901390399387aad0847dabd0a877fd0c)\n",
              "        ;\n",
              "\n",
              "        \n",
              "    \n",
              "    \n",
              "            var marker_5ceab46a7f12de1cc896b1f840722255 = L.marker(\n",
              "                [32.067, 34.783],\n",
              "                {}\n",
              "            ).addTo(map_46d46f2692727bb4ae16aeefccae3d6d);\n",
              "        \n",
              "    \n",
              "            var icon_0ac8e834739b93ecd1f26e112da00fd5 = L.AwesomeMarkers.icon(\n",
              "                {&quot;extraClasses&quot;: &quot;fa-rotate-0&quot;, &quot;icon&quot;: &quot;info-sign&quot;, &quot;iconColor&quot;: &quot;white&quot;, &quot;markerColor&quot;: &quot;green&quot;, &quot;prefix&quot;: &quot;fa&quot;}\n",
              "            );\n",
              "            marker_5ceab46a7f12de1cc896b1f840722255.setIcon(icon_0ac8e834739b93ecd1f26e112da00fd5);\n",
              "        \n",
              "    \n",
              "        var popup_0240907ac2b1c63c3e09b97d38ff04fc = L.popup({&quot;maxWidth&quot;: &quot;100%&quot;});\n",
              "\n",
              "        \n",
              "            var html_87fd941d8407020695fbcb81a4b757fb = $(`&lt;div id=&quot;html_87fd941d8407020695fbcb81a4b757fb&quot; style=&quot;width: 100.0%; height: 100.0%;&quot;&gt;(32.067,34.783)&lt;/div&gt;`)[0];\n",
              "            popup_0240907ac2b1c63c3e09b97d38ff04fc.setContent(html_87fd941d8407020695fbcb81a4b757fb);\n",
              "        \n",
              "\n",
              "        marker_5ceab46a7f12de1cc896b1f840722255.bindPopup(popup_0240907ac2b1c63c3e09b97d38ff04fc)\n",
              "        ;\n",
              "\n",
              "        \n",
              "    \n",
              "    \n",
              "            var marker_34b40f126ca034a33d64a526910fbf8c = L.marker(\n",
              "                [32.11, 34.841],\n",
              "                {}\n",
              "            ).addTo(map_46d46f2692727bb4ae16aeefccae3d6d);\n",
              "        \n",
              "    \n",
              "            var icon_382432b0304281a14b95e3989824d8fb = L.AwesomeMarkers.icon(\n",
              "                {&quot;extraClasses&quot;: &quot;fa-rotate-0&quot;, &quot;icon&quot;: &quot;info-sign&quot;, &quot;iconColor&quot;: &quot;white&quot;, &quot;markerColor&quot;: &quot;green&quot;, &quot;prefix&quot;: &quot;fa&quot;}\n",
              "            );\n",
              "            marker_34b40f126ca034a33d64a526910fbf8c.setIcon(icon_382432b0304281a14b95e3989824d8fb);\n",
              "        \n",
              "    \n",
              "        var popup_0f41b62ff610bbe712ac2fc7f1450ff5 = L.popup({&quot;maxWidth&quot;: &quot;100%&quot;});\n",
              "\n",
              "        \n",
              "            var html_8b1289f278094b87e164a56d4b337c95 = $(`&lt;div id=&quot;html_8b1289f278094b87e164a56d4b337c95&quot; style=&quot;width: 100.0%; height: 100.0%;&quot;&gt;(32.11,34.841)&lt;/div&gt;`)[0];\n",
              "            popup_0f41b62ff610bbe712ac2fc7f1450ff5.setContent(html_8b1289f278094b87e164a56d4b337c95);\n",
              "        \n",
              "\n",
              "        marker_34b40f126ca034a33d64a526910fbf8c.bindPopup(popup_0f41b62ff610bbe712ac2fc7f1450ff5)\n",
              "        ;\n",
              "\n",
              "        \n",
              "    \n",
              "    \n",
              "            var marker_383e2fafc32a184e2c5a2d6dbef2864f = L.marker(\n",
              "                [32.11, 34.815],\n",
              "                {}\n",
              "            ).addTo(map_46d46f2692727bb4ae16aeefccae3d6d);\n",
              "        \n",
              "    \n",
              "            var icon_ac2a01bc8426deec7b0d2f3a3448444f = L.AwesomeMarkers.icon(\n",
              "                {&quot;extraClasses&quot;: &quot;fa-rotate-0&quot;, &quot;icon&quot;: &quot;info-sign&quot;, &quot;iconColor&quot;: &quot;white&quot;, &quot;markerColor&quot;: &quot;orange&quot;, &quot;prefix&quot;: &quot;fa&quot;}\n",
              "            );\n",
              "            marker_383e2fafc32a184e2c5a2d6dbef2864f.setIcon(icon_ac2a01bc8426deec7b0d2f3a3448444f);\n",
              "        \n",
              "    \n",
              "        var popup_265e1a8c5d5e1edf2e510c3e5f3dcb49 = L.popup({&quot;maxWidth&quot;: &quot;100%&quot;});\n",
              "\n",
              "        \n",
              "            var html_6aeee1553fb6cebcbdf567f02808740b = $(`&lt;div id=&quot;html_6aeee1553fb6cebcbdf567f02808740b&quot; style=&quot;width: 100.0%; height: 100.0%;&quot;&gt;(32.11,34.815)&lt;/div&gt;`)[0];\n",
              "            popup_265e1a8c5d5e1edf2e510c3e5f3dcb49.setContent(html_6aeee1553fb6cebcbdf567f02808740b);\n",
              "        \n",
              "\n",
              "        marker_383e2fafc32a184e2c5a2d6dbef2864f.bindPopup(popup_265e1a8c5d5e1edf2e510c3e5f3dcb49)\n",
              "        ;\n",
              "\n",
              "        \n",
              "    \n",
              "    \n",
              "            var marker_0c5c3e4c41e8421d2e81063c099a071b = L.marker(\n",
              "                [32.116, 34.794],\n",
              "                {}\n",
              "            ).addTo(map_46d46f2692727bb4ae16aeefccae3d6d);\n",
              "        \n",
              "    \n",
              "            var icon_36aaf34f1bf52fbc8d30236c6e845af2 = L.AwesomeMarkers.icon(\n",
              "                {&quot;extraClasses&quot;: &quot;fa-rotate-0&quot;, &quot;icon&quot;: &quot;info-sign&quot;, &quot;iconColor&quot;: &quot;white&quot;, &quot;markerColor&quot;: &quot;green&quot;, &quot;prefix&quot;: &quot;fa&quot;}\n",
              "            );\n",
              "            marker_0c5c3e4c41e8421d2e81063c099a071b.setIcon(icon_36aaf34f1bf52fbc8d30236c6e845af2);\n",
              "        \n",
              "    \n",
              "        var popup_9d81d97311c0deb2096347f3eec66859 = L.popup({&quot;maxWidth&quot;: &quot;100%&quot;});\n",
              "\n",
              "        \n",
              "            var html_92c49c2df1d66b57c1ec8642a3a250d6 = $(`&lt;div id=&quot;html_92c49c2df1d66b57c1ec8642a3a250d6&quot; style=&quot;width: 100.0%; height: 100.0%;&quot;&gt;(32.116,34.794)&lt;/div&gt;`)[0];\n",
              "            popup_9d81d97311c0deb2096347f3eec66859.setContent(html_92c49c2df1d66b57c1ec8642a3a250d6);\n",
              "        \n",
              "\n",
              "        marker_0c5c3e4c41e8421d2e81063c099a071b.bindPopup(popup_9d81d97311c0deb2096347f3eec66859)\n",
              "        ;\n",
              "\n",
              "        \n",
              "    \n",
              "    \n",
              "            var marker_5c162dbafeb92e7fbddd0aa8948b6dd3 = L.marker(\n",
              "                [32.106, 34.818],\n",
              "                {}\n",
              "            ).addTo(map_46d46f2692727bb4ae16aeefccae3d6d);\n",
              "        \n",
              "    \n",
              "            var icon_cd26b973491722f87cd6cf4e95ee8fec = L.AwesomeMarkers.icon(\n",
              "                {&quot;extraClasses&quot;: &quot;fa-rotate-0&quot;, &quot;icon&quot;: &quot;info-sign&quot;, &quot;iconColor&quot;: &quot;white&quot;, &quot;markerColor&quot;: &quot;green&quot;, &quot;prefix&quot;: &quot;fa&quot;}\n",
              "            );\n",
              "            marker_5c162dbafeb92e7fbddd0aa8948b6dd3.setIcon(icon_cd26b973491722f87cd6cf4e95ee8fec);\n",
              "        \n",
              "    \n",
              "        var popup_c5a4fec33c7e047bbf99dfd0794a2e9c = L.popup({&quot;maxWidth&quot;: &quot;100%&quot;});\n",
              "\n",
              "        \n",
              "            var html_403741b8ecb586a49499e5ab7457e0e9 = $(`&lt;div id=&quot;html_403741b8ecb586a49499e5ab7457e0e9&quot; style=&quot;width: 100.0%; height: 100.0%;&quot;&gt;(32.106,34.818)&lt;/div&gt;`)[0];\n",
              "            popup_c5a4fec33c7e047bbf99dfd0794a2e9c.setContent(html_403741b8ecb586a49499e5ab7457e0e9);\n",
              "        \n",
              "\n",
              "        marker_5c162dbafeb92e7fbddd0aa8948b6dd3.bindPopup(popup_c5a4fec33c7e047bbf99dfd0794a2e9c)\n",
              "        ;\n",
              "\n",
              "        \n",
              "    \n",
              "    \n",
              "            var marker_3d8be7c29a52437cc102dcce7e3e1b6f = L.marker(\n",
              "                [32.14, 34.791],\n",
              "                {}\n",
              "            ).addTo(map_46d46f2692727bb4ae16aeefccae3d6d);\n",
              "        \n",
              "    \n",
              "            var icon_ece4ff0c75f2453f2f73a231db29fc6a = L.AwesomeMarkers.icon(\n",
              "                {&quot;extraClasses&quot;: &quot;fa-rotate-0&quot;, &quot;icon&quot;: &quot;info-sign&quot;, &quot;iconColor&quot;: &quot;white&quot;, &quot;markerColor&quot;: &quot;green&quot;, &quot;prefix&quot;: &quot;fa&quot;}\n",
              "            );\n",
              "            marker_3d8be7c29a52437cc102dcce7e3e1b6f.setIcon(icon_ece4ff0c75f2453f2f73a231db29fc6a);\n",
              "        \n",
              "    \n",
              "        var popup_e1d449ad4f3dbd11efe0dd183428f0f0 = L.popup({&quot;maxWidth&quot;: &quot;100%&quot;});\n",
              "\n",
              "        \n",
              "            var html_3ea14569cfcbe961ba095a2078a923f1 = $(`&lt;div id=&quot;html_3ea14569cfcbe961ba095a2078a923f1&quot; style=&quot;width: 100.0%; height: 100.0%;&quot;&gt;(32.14,34.791)&lt;/div&gt;`)[0];\n",
              "            popup_e1d449ad4f3dbd11efe0dd183428f0f0.setContent(html_3ea14569cfcbe961ba095a2078a923f1);\n",
              "        \n",
              "\n",
              "        marker_3d8be7c29a52437cc102dcce7e3e1b6f.bindPopup(popup_e1d449ad4f3dbd11efe0dd183428f0f0)\n",
              "        ;\n",
              "\n",
              "        \n",
              "    \n",
              "    \n",
              "            var marker_05f5b6a44e3065d92476cc4c45347ffc = L.marker(\n",
              "                [32.07, 34.766],\n",
              "                {}\n",
              "            ).addTo(map_46d46f2692727bb4ae16aeefccae3d6d);\n",
              "        \n",
              "    \n",
              "            var icon_a3312d98e47d36e9a81e361fb2c09abb = L.AwesomeMarkers.icon(\n",
              "                {&quot;extraClasses&quot;: &quot;fa-rotate-0&quot;, &quot;icon&quot;: &quot;info-sign&quot;, &quot;iconColor&quot;: &quot;white&quot;, &quot;markerColor&quot;: &quot;green&quot;, &quot;prefix&quot;: &quot;fa&quot;}\n",
              "            );\n",
              "            marker_05f5b6a44e3065d92476cc4c45347ffc.setIcon(icon_a3312d98e47d36e9a81e361fb2c09abb);\n",
              "        \n",
              "    \n",
              "        var popup_6d852141562c30921d14f47a1197899c = L.popup({&quot;maxWidth&quot;: &quot;100%&quot;});\n",
              "\n",
              "        \n",
              "            var html_1a619f22e5eff67d9796c22e54072c76 = $(`&lt;div id=&quot;html_1a619f22e5eff67d9796c22e54072c76&quot; style=&quot;width: 100.0%; height: 100.0%;&quot;&gt;(32.07,34.766)&lt;/div&gt;`)[0];\n",
              "            popup_6d852141562c30921d14f47a1197899c.setContent(html_1a619f22e5eff67d9796c22e54072c76);\n",
              "        \n",
              "\n",
              "        marker_05f5b6a44e3065d92476cc4c45347ffc.bindPopup(popup_6d852141562c30921d14f47a1197899c)\n",
              "        ;\n",
              "\n",
              "        \n",
              "    \n",
              "    \n",
              "            var marker_69df9b87ec835a7388e124c055cca58e = L.marker(\n",
              "                [32.107, 34.804],\n",
              "                {}\n",
              "            ).addTo(map_46d46f2692727bb4ae16aeefccae3d6d);\n",
              "        \n",
              "    \n",
              "            var icon_c31175c016bc7598c253530410f23662 = L.AwesomeMarkers.icon(\n",
              "                {&quot;extraClasses&quot;: &quot;fa-rotate-0&quot;, &quot;icon&quot;: &quot;info-sign&quot;, &quot;iconColor&quot;: &quot;white&quot;, &quot;markerColor&quot;: &quot;green&quot;, &quot;prefix&quot;: &quot;fa&quot;}\n",
              "            );\n",
              "            marker_69df9b87ec835a7388e124c055cca58e.setIcon(icon_c31175c016bc7598c253530410f23662);\n",
              "        \n",
              "    \n",
              "        var popup_ad5ec7b1ca7f9ec11a8b188e5cc2c04a = L.popup({&quot;maxWidth&quot;: &quot;100%&quot;});\n",
              "\n",
              "        \n",
              "            var html_bc3e03f0b047ce2e3711f844b4b6f962 = $(`&lt;div id=&quot;html_bc3e03f0b047ce2e3711f844b4b6f962&quot; style=&quot;width: 100.0%; height: 100.0%;&quot;&gt;(32.107,34.804)&lt;/div&gt;`)[0];\n",
              "            popup_ad5ec7b1ca7f9ec11a8b188e5cc2c04a.setContent(html_bc3e03f0b047ce2e3711f844b4b6f962);\n",
              "        \n",
              "\n",
              "        marker_69df9b87ec835a7388e124c055cca58e.bindPopup(popup_ad5ec7b1ca7f9ec11a8b188e5cc2c04a)\n",
              "        ;\n",
              "\n",
              "        \n",
              "    \n",
              "    \n",
              "            var marker_3575b23edf78ab2ec084649faaa2b3f1 = L.marker(\n",
              "                [32.113, 34.808],\n",
              "                {}\n",
              "            ).addTo(map_46d46f2692727bb4ae16aeefccae3d6d);\n",
              "        \n",
              "    \n",
              "            var icon_2c02523777e430a9a619a7f5a0a02059 = L.AwesomeMarkers.icon(\n",
              "                {&quot;extraClasses&quot;: &quot;fa-rotate-0&quot;, &quot;icon&quot;: &quot;info-sign&quot;, &quot;iconColor&quot;: &quot;white&quot;, &quot;markerColor&quot;: &quot;green&quot;, &quot;prefix&quot;: &quot;fa&quot;}\n",
              "            );\n",
              "            marker_3575b23edf78ab2ec084649faaa2b3f1.setIcon(icon_2c02523777e430a9a619a7f5a0a02059);\n",
              "        \n",
              "    \n",
              "        var popup_4baa9df57ab9fb28e9f89aa49a6bf36f = L.popup({&quot;maxWidth&quot;: &quot;100%&quot;});\n",
              "\n",
              "        \n",
              "            var html_9d50bb8ff2888641cf6227ca9cfc7804 = $(`&lt;div id=&quot;html_9d50bb8ff2888641cf6227ca9cfc7804&quot; style=&quot;width: 100.0%; height: 100.0%;&quot;&gt;(32.113,34.808)&lt;/div&gt;`)[0];\n",
              "            popup_4baa9df57ab9fb28e9f89aa49a6bf36f.setContent(html_9d50bb8ff2888641cf6227ca9cfc7804);\n",
              "        \n",
              "\n",
              "        marker_3575b23edf78ab2ec084649faaa2b3f1.bindPopup(popup_4baa9df57ab9fb28e9f89aa49a6bf36f)\n",
              "        ;\n",
              "\n",
              "        \n",
              "    \n",
              "&lt;/script&gt;\n",
              "&lt;/html&gt;\" style=\"position:absolute;width:100%;height:100%;left:0;top:0;border:none !important;\" allowfullscreen webkitallowfullscreen mozallowfullscreen></iframe></div></div>"
            ]
          },
          "metadata": {},
          "execution_count": 110
        }
      ]
    },
    {
      "cell_type": "code",
      "source": [
        "pip install meteostat"
      ],
      "metadata": {
        "colab": {
          "base_uri": "https://localhost:8080/"
        },
        "id": "agOJ8Iu-mfDL",
        "outputId": "48d3e956-5653-4cd1-e239-dcbfab43d9cb"
      },
      "execution_count": null,
      "outputs": [
        {
          "output_type": "stream",
          "name": "stdout",
          "text": [
            "Looking in indexes: https://pypi.org/simple, https://us-python.pkg.dev/colab-wheels/public/simple/\n",
            "Requirement already satisfied: meteostat in /usr/local/lib/python3.7/dist-packages (1.6.5)\n",
            "Requirement already satisfied: pandas>=1.1 in /usr/local/lib/python3.7/dist-packages (from meteostat) (1.3.5)\n",
            "Requirement already satisfied: pytz in /usr/local/lib/python3.7/dist-packages (from meteostat) (2022.6)\n",
            "Requirement already satisfied: numpy in /usr/local/lib/python3.7/dist-packages (from meteostat) (1.21.6)\n",
            "Requirement already satisfied: python-dateutil>=2.7.3 in /usr/local/lib/python3.7/dist-packages (from pandas>=1.1->meteostat) (2.8.2)\n",
            "Requirement already satisfied: six>=1.5 in /usr/local/lib/python3.7/dist-packages (from python-dateutil>=2.7.3->pandas>=1.1->meteostat) (1.15.0)\n"
          ]
        }
      ]
    },
    {
      "cell_type": "code",
      "source": [
        "from meteostat import Point, Hourly"
      ],
      "metadata": {
        "id": "NKCHveRqme53"
      },
      "execution_count": null,
      "outputs": []
    },
    {
      "cell_type": "code",
      "source": [
        "def get_temp(lati, longi, time):\n",
        "  location = Point(lati, longi)\n",
        "  print(time)\n",
        "  # print(time + datetime.timedelta(hours=1))  \n",
        "  data = Hourly(location, time, time) #srat time and end time, hence two time\n",
        "  data = data.fetch()\n",
        "  return float(data['temp'][0])"
      ],
      "metadata": {
        "id": "EvnugQgfYxFR"
      },
      "execution_count": null,
      "outputs": []
    },
    {
      "cell_type": "code",
      "source": [
        "import random"
      ],
      "metadata": {
        "id": "l_ewR5pDrL1D"
      },
      "execution_count": null,
      "outputs": []
    },
    {
      "cell_type": "code",
      "source": [
        "temp = []\n",
        "for i in range(0,len(df_sub)):\n",
        "  temp.append(random.randrange(10,40))"
      ],
      "metadata": {
        "id": "m3lg9vnWpcWz"
      },
      "execution_count": null,
      "outputs": []
    },
    {
      "cell_type": "code",
      "source": [
        "df_sub['temp']=temp"
      ],
      "metadata": {
        "id": "mBxecLJTpcSL"
      },
      "execution_count": null,
      "outputs": []
    },
    {
      "cell_type": "code",
      "source": [
        "x = df_sub.latitude\n",
        "y = df_sub.longitude\n",
        "plt.scatter(x, y, c = temp, cmap='coolwarm')\n",
        "plt.show()"
      ],
      "metadata": {
        "colab": {
          "base_uri": "https://localhost:8080/",
          "height": 265
        },
        "id": "Lzq1RtAipcLR",
        "outputId": "3e8b8f2d-fffb-4c51-e658-ce0866ee4443"
      },
      "execution_count": null,
      "outputs": [
        {
          "output_type": "display_data",
          "data": {
            "text/plain": [
              "<Figure size 432x288 with 1 Axes>"
            ],
            "image/png": "[encoded data removed]"
          },
          "metadata": {
            "needs_background": "light"
          }
        }
      ]
    },
    {
      "cell_type": "code",
      "source": [
        "x = df_sub.latitude\n",
        "y = df_sub.longitude\n",
        "plt.scatter(x, y, c = df_sub.total_cars, cmap='viridis')\n",
        "plt.show()"
      ],
      "metadata": {
        "colab": {
          "base_uri": "https://localhost:8080/",
          "height": 265
        },
        "id": "eRYZiUn9YxQ1",
        "outputId": "14968d50-db4f-49dc-bee7-52e06fd593d8"
      },
      "execution_count": null,
      "outputs": [
        {
          "output_type": "display_data",
          "data": {
            "text/plain": [
              "<Figure size 432x288 with 1 Axes>"
            ],
            "image/png": "[encoded data removed]"
          },
          "metadata": {
            "needs_background": "light"
          }
        }
      ]
    },
    {
      "cell_type": "code",
      "source": [],
      "metadata": {
        "id": "ynHzZc7GYxbZ"
      },
      "execution_count": null,
      "outputs": []
    },
    {
      "cell_type": "code",
      "source": [],
      "metadata": {
        "id": "FDlqMaAhYxmj"
      },
      "execution_count": null,
      "outputs": []
    },
    {
      "cell_type": "markdown",
      "source": [
        "To work with Spark we always need s spark session, so now we will create a spark session"
      ],
      "metadata": {
        "id": "Szx7Smm7HRPt"
      }
    },
    {
      "cell_type": "markdown",
      "source": [
        "# Working with pyspark"
      ],
      "metadata": {
        "id": "4WJxXp8dQZdt"
      }
    },
    {
      "cell_type": "code",
      "source": [
        "from pyspark.sql import SparkSession"
      ],
      "metadata": {
        "id": "Iwpxm0EAHNyV"
      },
      "execution_count": null,
      "outputs": []
    },
    {
      "cell_type": "markdown",
      "source": [
        "Here we will keep the session name as our team's name - 'BigShenenigans'"
      ],
      "metadata": {
        "id": "c9di_wjUHonE"
      }
    },
    {
      "cell_type": "code",
      "source": [
        "spark = SparkSession.builder.appName('BigShenenigans').getOrCreate()"
      ],
      "metadata": {
        "id": "VMtbPFaVHcko"
      },
      "execution_count": null,
      "outputs": []
    },
    {
      "cell_type": "markdown",
      "source": [
        "A spark session of name 'BigShenenigans' has been created"
      ],
      "metadata": {
        "id": "zI8ag4FBH2JY"
      }
    },
    {
      "cell_type": "code",
      "source": [
        "spark"
      ],
      "metadata": {
        "colab": {
          "base_uri": "https://localhost:8080/",
          "height": 219
        },
        "id": "zATi-ILsHzOC",
        "outputId": "70ca9e92-5fe7-426e-b339-07a9861b0704"
      },
      "execution_count": null,
      "outputs": [
        {
          "output_type": "execute_result",
          "data": {
            "text/plain": [
              "<pyspark.sql.session.SparkSession at 0x7fc89bcdd0d0>"
            ],
            "text/html": [
              "\n",
              "            <div>\n",
              "                <p><b>SparkSession - in-memory</b></p>\n",
              "                \n",
              "        <div>\n",
              "            <p><b>SparkContext</b></p>\n",
              "\n",
              "            <p><a href=\"http://d76712f204d1:4040\">Spark UI</a></p>\n",
              "\n",
              "            <dl>\n",
              "              <dt>Version</dt>\n",
              "                <dd><code>v3.3.1</code></dd>\n",
              "              <dt>Master</dt>\n",
              "                <dd><code>local[*]</code></dd>\n",
              "              <dt>AppName</dt>\n",
              "                <dd><code>BigShenenigans</code></dd>\n",
              "            </dl>\n",
              "        </div>\n",
              "        \n",
              "            </div>\n",
              "        "
            ]
          },
          "metadata": {},
          "execution_count": 8
        }
      ]
    },
    {
      "cell_type": "markdown",
      "source": [
        "Now we will read a file in spark like we did for pandas"
      ],
      "metadata": {
        "id": "Wi5HpzN8IYiS"
      }
    },
    {
      "cell_type": "markdown",
      "source": [
        "## Importing Data"
      ],
      "metadata": {
        "id": "eA502KS7QcvE"
      }
    },
    {
      "cell_type": "code",
      "source": [
        "# df_spark = spark.read.csv('/content/drive/MyDrive/BigDataXspatial/Original_Dataset.csv')\n",
        "# We want to make Latitude, longitude and all as our main column names instead of c0, c1 and all. So we will do the following\n",
        "df_spark = spark.read.csv('/content/drive/MyDrive/BigDataXspatial/Original_Dataset.csv', header=True, inferSchema=True)"
      ],
      "metadata": {
        "id": "-0pBPpZqIFOw"
      },
      "execution_count": null,
      "outputs": []
    },
    {
      "cell_type": "markdown",
      "source": [
        "It takes a while to lead the csv file in the spark dataframe. (more than a min)"
      ],
      "metadata": {
        "id": "NE9mzWbyL1TY"
      }
    },
    {
      "cell_type": "code",
      "source": [
        "type(df_spark)"
      ],
      "metadata": {
        "colab": {
          "base_uri": "https://localhost:8080/"
        },
        "id": "2axI2ebaLQNZ",
        "outputId": "63ff8c52-d2fb-4f10-ac55-efd45bf50446"
      },
      "execution_count": null,
      "outputs": [
        {
          "output_type": "execute_result",
          "data": {
            "text/plain": [
              "pyspark.sql.dataframe.DataFrame"
            ]
          },
          "metadata": {},
          "execution_count": 10
        }
      ]
    },
    {
      "cell_type": "code",
      "source": [
        "df_spark.show(5)"
      ],
      "metadata": {
        "colab": {
          "base_uri": "https://localhost:8080/"
        },
        "id": "8qSAZhcqKo44",
        "outputId": "cfc5da7d-d591-46f0-dba2-fbb6c65f59be"
      },
      "execution_count": null,
      "outputs": [
        {
          "output_type": "stream",
          "name": "stdout",
          "text": [
            "+------------------+------------------+----------+---------+-------------------+\n",
            "|          latitude|         longitude|total_cars|cars_list|          timestamp|\n",
            "+------------------+------------------+----------+---------+-------------------+\n",
            "|          32.09004|          34.79679|         1|    [138]|2020-02-25 10:48:02|\n",
            "|          32.11614|          34.79464|         1|     [64]|2020-02-25 10:48:02|\n",
            "|32.118759999999995|          34.82229|         1|    [120]|2020-02-25 10:48:02|\n",
            "|          32.11226|34.837990000000005|         1|    [110]|2020-02-25 10:48:02|\n",
            "|32.142790000000005|          34.79343|         1|    [190]|2020-02-25 10:48:02|\n",
            "+------------------+------------------+----------+---------+-------------------+\n",
            "only showing top 5 rows\n",
            "\n"
          ]
        }
      ]
    },
    {
      "cell_type": "code",
      "source": [
        "df_spark.head(5)"
      ],
      "metadata": {
        "colab": {
          "base_uri": "https://localhost:8080/"
        },
        "id": "LYRZ_DQ8I2-x",
        "outputId": "bc3ce533-c5d3-48fe-ec53-1785dd6d112b"
      },
      "execution_count": null,
      "outputs": [
        {
          "output_type": "execute_result",
          "data": {
            "text/plain": [
              "[Row(latitude=32.09004, longitude=34.79679, total_cars=1, cars_list='[138]', timestamp=datetime.datetime(2020, 2, 25, 10, 48, 2)),\n",
              " Row(latitude=32.11614, longitude=34.79464, total_cars=1, cars_list='[64]', timestamp=datetime.datetime(2020, 2, 25, 10, 48, 2)),\n",
              " Row(latitude=32.118759999999995, longitude=34.82229, total_cars=1, cars_list='[120]', timestamp=datetime.datetime(2020, 2, 25, 10, 48, 2)),\n",
              " Row(latitude=32.11226, longitude=34.837990000000005, total_cars=1, cars_list='[110]', timestamp=datetime.datetime(2020, 2, 25, 10, 48, 2)),\n",
              " Row(latitude=32.142790000000005, longitude=34.79343, total_cars=1, cars_list='[190]', timestamp=datetime.datetime(2020, 2, 25, 10, 48, 2))]"
            ]
          },
          "metadata": {},
          "execution_count": 11
        }
      ]
    },
    {
      "cell_type": "code",
      "source": [
        "df_spark.printSchema()"
      ],
      "metadata": {
        "colab": {
          "base_uri": "https://localhost:8080/"
        },
        "id": "Gsccb5JlI7Ds",
        "outputId": "8f19b61d-f901-49c7-a3bd-bbab92bc7068"
      },
      "execution_count": null,
      "outputs": [
        {
          "output_type": "stream",
          "name": "stdout",
          "text": [
            "root\n",
            " |-- latitude: double (nullable = true)\n",
            " |-- longitude: double (nullable = true)\n",
            " |-- total_cars: integer (nullable = true)\n",
            " |-- cars_list: string (nullable = true)\n",
            " |-- timestamp: timestamp (nullable = true)\n",
            "\n"
          ]
        }
      ]
    },
    {
      "cell_type": "markdown",
      "source": [
        "## Select columns"
      ],
      "metadata": {
        "id": "SNaIqg-FOogE"
      }
    },
    {
      "cell_type": "code",
      "source": [
        "# Selecting only some particular columns\n",
        "df_spark.select('latitude', 'longitude').show(5)"
      ],
      "metadata": {
        "colab": {
          "base_uri": "https://localhost:8080/"
        },
        "id": "YdfFgSU5LfWt",
        "outputId": "eab1b235-c4b0-42cc-9848-c83c54ddce6f"
      },
      "execution_count": null,
      "outputs": [
        {
          "output_type": "stream",
          "name": "stdout",
          "text": [
            "+------------------+------------------+\n",
            "|          latitude|         longitude|\n",
            "+------------------+------------------+\n",
            "|          32.09004|          34.79679|\n",
            "|          32.11614|          34.79464|\n",
            "|32.118759999999995|          34.82229|\n",
            "|          32.11226|34.837990000000005|\n",
            "|32.142790000000005|          34.79343|\n",
            "+------------------+------------------+\n",
            "only showing top 5 rows\n",
            "\n"
          ]
        }
      ]
    },
    {
      "cell_type": "markdown",
      "source": [
        "## Add columns"
      ],
      "metadata": {
        "id": "ejRHdpItOv1b"
      }
    },
    {
      "cell_type": "code",
      "source": [
        "# df_spark = df_spark.withColumn('New Columns Name', df_spark['total_cars']+2)\n",
        "# After the New column name, you can have any function or any value that is related to that particular information of the row"
      ],
      "metadata": {
        "id": "kIP6kWmLNXd2"
      },
      "execution_count": null,
      "outputs": []
    },
    {
      "cell_type": "markdown",
      "source": [
        "## Drop columns"
      ],
      "metadata": {
        "id": "9Mb1seWVP19t"
      }
    },
    {
      "cell_type": "code",
      "source": [
        "# df_spark = df_spark.drop('Columns Name')"
      ],
      "metadata": {
        "id": "QIy9AjhrPbJ1"
      },
      "execution_count": null,
      "outputs": []
    },
    {
      "cell_type": "markdown",
      "source": [
        "## Rename a column"
      ],
      "metadata": {
        "id": "k9jm4moBQAa8"
      }
    },
    {
      "cell_type": "code",
      "source": [
        "# df_spark = df_spark.withColumn('Old name', 'New name')"
      ],
      "metadata": {
        "id": "85ol6CZYP_G8"
      },
      "execution_count": null,
      "outputs": []
    },
    {
      "cell_type": "markdown",
      "source": [
        "## Lets try to add a column 'weekday' in the table"
      ],
      "metadata": {
        "id": "VfhwPG0URCIp"
      }
    },
    {
      "cell_type": "code",
      "source": [
        "import datetime"
      ],
      "metadata": {
        "id": "fJFly1WPQMSG"
      },
      "execution_count": null,
      "outputs": []
    },
    {
      "cell_type": "code",
      "source": [
        "# In python, weekday 0 starts from Monday\n",
        "day = [\"Monday\", \"Tuesday\", \"Wednesday\", \"Thursday\", \"Friday\", \"Saturday\", \"Sunday\"]"
      ],
      "metadata": {
        "id": "Ffo1oGeWR2hh"
      },
      "execution_count": null,
      "outputs": []
    },
    {
      "cell_type": "code",
      "source": [
        "sample = datetime.datetime(2020, 2, 26, 10, 48, 2)\n",
        "day[sample.weekday()]"
      ],
      "metadata": {
        "colab": {
          "base_uri": "https://localhost:8080/",
          "height": 36
        },
        "id": "ZppyyoelRLq8",
        "outputId": "fe02275d-2d61-4fd8-a0bd-2f7010deee31"
      },
      "execution_count": null,
      "outputs": [
        {
          "output_type": "execute_result",
          "data": {
            "text/plain": [
              "'Wednesday'"
            ],
            "application/vnd.google.colaboratory.intrinsic+json": {
              "type": "string"
            }
          },
          "metadata": {},
          "execution_count": 19
        }
      ]
    },
    {
      "cell_type": "code",
      "source": [
        "from pyspark.sql.functions import udf"
      ],
      "metadata": {
        "id": "_0_eGc7SVqMO"
      },
      "execution_count": null,
      "outputs": []
    },
    {
      "cell_type": "code",
      "source": [
        "@udf\n",
        "def get_weekday(sample):\n",
        "  return day[sample.weekday()]\n",
        "\n",
        "# If you don't want the full day name, remove day[] from return line"
      ],
      "metadata": {
        "id": "OzcmVce0T958"
      },
      "execution_count": null,
      "outputs": []
    },
    {
      "cell_type": "code",
      "source": [
        "get_weekday(datetime.datetime.today())"
      ],
      "metadata": {
        "id": "5DSmpRKAUwHM"
      },
      "execution_count": null,
      "outputs": []
    },
    {
      "cell_type": "code",
      "source": [
        "df_spark_day = df_spark.withColumn('weekday', get_weekday(df_spark['timestamp']))"
      ],
      "metadata": {
        "id": "QIOPboraRhyw"
      },
      "execution_count": null,
      "outputs": []
    },
    {
      "cell_type": "code",
      "source": [
        "df_spark_day.show(5)"
      ],
      "metadata": {
        "colab": {
          "base_uri": "https://localhost:8080/"
        },
        "id": "f3SRLBNQSyqj",
        "outputId": "b83dd2bf-1db1-4bba-fbed-afe78d731ad1"
      },
      "execution_count": null,
      "outputs": [
        {
          "output_type": "stream",
          "name": "stdout",
          "text": [
            "+------------------+------------------+----------+---------+-------------------+-------+\n",
            "|          latitude|         longitude|total_cars|cars_list|          timestamp|weekday|\n",
            "+------------------+------------------+----------+---------+-------------------+-------+\n",
            "|          32.09004|          34.79679|         1|    [138]|2020-02-25 10:48:02|Tuesday|\n",
            "|          32.11614|          34.79464|         1|     [64]|2020-02-25 10:48:02|Tuesday|\n",
            "|32.118759999999995|          34.82229|         1|    [120]|2020-02-25 10:48:02|Tuesday|\n",
            "|          32.11226|34.837990000000005|         1|    [110]|2020-02-25 10:48:02|Tuesday|\n",
            "|32.142790000000005|          34.79343|         1|    [190]|2020-02-25 10:48:02|Tuesday|\n",
            "+------------------+------------------+----------+---------+-------------------+-------+\n",
            "only showing top 5 rows\n",
            "\n"
          ]
        }
      ]
    },
    {
      "cell_type": "markdown",
      "source": [
        "## Adding Average Temp information"
      ],
      "metadata": {
        "id": "QlbdgiBYYzkl"
      }
    },
    {
      "cell_type": "code",
      "source": [
        "pip install meteostat"
      ],
      "metadata": {
        "id": "ko6Z0EpTX7m7",
        "colab": {
          "base_uri": "https://localhost:8080/"
        },
        "outputId": "d3e5245e-c4af-45e3-de7e-3cea82578a8a"
      },
      "execution_count": null,
      "outputs": [
        {
          "output_type": "stream",
          "name": "stdout",
          "text": [
            "Looking in indexes: https://pypi.org/simple, https://us-python.pkg.dev/colab-wheels/public/simple/\n",
            "Collecting meteostat\n",
            "  Downloading meteostat-1.6.5-py3-none-any.whl (31 kB)\n",
            "Requirement already satisfied: numpy in /usr/local/lib/python3.7/dist-packages (from meteostat) (1.21.6)\n",
            "Requirement already satisfied: pytz in /usr/local/lib/python3.7/dist-packages (from meteostat) (2022.6)\n",
            "Requirement already satisfied: pandas>=1.1 in /usr/local/lib/python3.7/dist-packages (from meteostat) (1.3.5)\n",
            "Requirement already satisfied: python-dateutil>=2.7.3 in /usr/local/lib/python3.7/dist-packages (from pandas>=1.1->meteostat) (2.8.2)\n",
            "Requirement already satisfied: six>=1.5 in /usr/local/lib/python3.7/dist-packages (from python-dateutil>=2.7.3->pandas>=1.1->meteostat) (1.15.0)\n",
            "Installing collected packages: meteostat\n",
            "Successfully installed meteostat-1.6.5\n"
          ]
        }
      ]
    },
    {
      "cell_type": "code",
      "source": [
        "from meteostat import Point, Hourly"
      ],
      "metadata": {
        "id": "8lMykXPqDSeH"
      },
      "execution_count": null,
      "outputs": []
    },
    {
      "cell_type": "code",
      "source": [
        "# from meteostat.interface.hourly import Hourly\n",
        "# Import Meteostat library and dependencies\n",
        "from meteostat import Point, Daily, Hourly\n",
        "\n",
        "# Set time period\n",
        "start = datetime(2018, 1, 1, 10, 0, 0)\n",
        "end = datetime(2018, 1, 1, 11, 0, 0)\n",
        "\n",
        "# Create Point for Vancouver, BC\n",
        "vancouver = Point(49.2497, -123.1193)\n",
        "\n",
        "# Get daily data for 2018\n",
        "data = Hourly(vancouver, start, end)\n",
        "data = data.fetch()"
      ],
      "metadata": {
        "id": "5spq3pGaWEmt"
      },
      "execution_count": null,
      "outputs": []
    },
    {
      "cell_type": "code",
      "source": [
        "data['temp'][0]"
      ],
      "metadata": {
        "id": "MaSjNW3eX1IE"
      },
      "execution_count": null,
      "outputs": []
    },
    {
      "cell_type": "markdown",
      "source": [
        "### Our part of code"
      ],
      "metadata": {
        "id": "2chSjLyOelNF"
      }
    },
    {
      "cell_type": "code",
      "source": [
        "@udf\n",
        "def get_temp(lati, longi, time):\n",
        "  location = Point(lati, longi)\n",
        "  print(time)\n",
        "  print(time + datetime.timedelta(hours=1))  \n",
        "  data = Hourly(location, time, time + datetime.timedelta(hours=1)) #srat time and end time, hence two time\n",
        "  data = data.fetch()\n",
        "  return float(data['temp'][0])"
      ],
      "metadata": {
        "id": "FhBXVd1WY-uL"
      },
      "execution_count": null,
      "outputs": []
    },
    {
      "cell_type": "code",
      "source": [
        "get_temp(32.09004, 34.79679, datetime.datetime(2020, 2, 25, 10, 59, 1))"
      ],
      "metadata": {
        "colab": {
          "base_uri": "https://localhost:8080/"
        },
        "id": "zRqr5nT6bBll",
        "outputId": "552a84cf-dc49-44da-fc4d-6886a89debfa"
      },
      "execution_count": null,
      "outputs": [
        {
          "output_type": "execute_result",
          "data": {
            "text/plain": [
              "17.0"
            ]
          },
          "metadata": {},
          "execution_count": 39
        }
      ]
    },
    {
      "cell_type": "code",
      "source": [
        "df_spark_temp = df_spark_day.withColumn('temp', get_temp(df_spark['latitude'], df_spark['longitude'], df_spark['timestamp']))"
      ],
      "metadata": {
        "id": "0IsCBXkwYBCj"
      },
      "execution_count": null,
      "outputs": []
    },
    {
      "cell_type": "code",
      "source": [
        "df_spark_temp.printSchema()"
      ],
      "metadata": {
        "id": "PO3nG8oug4YT",
        "colab": {
          "base_uri": "https://localhost:8080/"
        },
        "outputId": "49193685-4cd0-4d9d-e236-24781def87d8"
      },
      "execution_count": null,
      "outputs": [
        {
          "output_type": "stream",
          "name": "stdout",
          "text": [
            "root\n",
            " |-- latitude: double (nullable = true)\n",
            " |-- longitude: double (nullable = true)\n",
            " |-- total_cars: integer (nullable = true)\n",
            " |-- cars_list: string (nullable = true)\n",
            " |-- timestamp: timestamp (nullable = true)\n",
            " |-- weekday: string (nullable = true)\n",
            " |-- temp: string (nullable = true)\n",
            "\n"
          ]
        }
      ]
    },
    {
      "cell_type": "code",
      "source": [
        "# df_spark_temp.select('temp').show()"
      ],
      "metadata": {
        "id": "ZMJVC3d0FOyT"
      },
      "execution_count": null,
      "outputs": []
    },
    {
      "cell_type": "markdown",
      "source": [
        "Now that we have these information added, we will now try to remove some duplicated rows and clean the data (Add missing values and so on)"
      ],
      "metadata": {
        "id": "RumkM5JTHD--"
      }
    },
    {
      "cell_type": "markdown",
      "source": [
        "## Removing Null values"
      ],
      "metadata": {
        "id": "XsNc9BDvKOvD"
      }
    },
    {
      "cell_type": "code",
      "source": [
        "df_spark_temp.na.drop()"
      ],
      "metadata": {
        "id": "CBJ_00pxGeJf",
        "colab": {
          "base_uri": "https://localhost:8080/"
        },
        "outputId": "0c4ce82f-e2db-4d11-8c9e-35fcfc9517e4"
      },
      "execution_count": null,
      "outputs": [
        {
          "output_type": "execute_result",
          "data": {
            "text/plain": [
              "DataFrame[latitude: double, longitude: double, total_cars: int, cars_list: string, timestamp: timestamp, weekday: string, temp: string]"
            ]
          },
          "metadata": {},
          "execution_count": 42
        }
      ]
    },
    {
      "cell_type": "code",
      "source": [
        "df_spark_temp.show()"
      ],
      "metadata": {
        "colab": {
          "base_uri": "https://localhost:8080/"
        },
        "id": "6VcvnZY9KcR6",
        "outputId": "572750e5-8412-4467-d091-ac25a3b48850"
      },
      "execution_count": null,
      "outputs": [
        {
          "output_type": "stream",
          "name": "stdout",
          "text": [
            "+------------------+------------------+----------+----------+-------------------+-------+----+-------+\n",
            "|          latitude|         longitude|total_cars| cars_list|          timestamp|weekday|temp|car_num|\n",
            "+------------------+------------------+----------+----------+-------------------+-------+----+-------+\n",
            "|          32.09004|          34.79679|         1|     [138]|2020-02-25 10:48:02|Tuesday|17.0|      1|\n",
            "|          32.11614|          34.79464|         1|      [64]|2020-02-25 10:48:02|Tuesday|17.0|      1|\n",
            "|32.118759999999995|          34.82229|         1|     [120]|2020-02-25 10:48:02|Tuesday|17.0|      1|\n",
            "|          32.11226|34.837990000000005|         1|     [110]|2020-02-25 10:48:02|Tuesday|17.0|      1|\n",
            "|32.142790000000005|          34.79343|         1|     [190]|2020-02-25 10:48:02|Tuesday|17.0|      1|\n",
            "|32.089715000000005|34.779953000000006|         0|        []|2020-02-25 10:48:02|Tuesday|17.0|      0|\n",
            "|         32.079074|         34.783401|         0|        []|2020-02-25 10:48:02|Tuesday|17.0|      0|\n",
            "|         32.079825|          34.77445|         0|        []|2020-02-25 10:48:02|Tuesday|17.0|      0|\n",
            "|         32.081213|34.791709999999995|         0|        []|2020-02-25 10:48:02|Tuesday|17.0|      0|\n",
            "|32.082190999999995|34.771215999999995|         0|        []|2020-02-25 10:48:02|Tuesday|17.0|      0|\n",
            "|          32.09478|          34.79728|         0|        []|2020-02-25 10:48:02|Tuesday|17.0|      0|\n",
            "|         32.102224|         34.785543|         0|        []|2020-02-25 10:48:02|Tuesday|17.0|      0|\n",
            "|          32.06645|         34.786325|         0|        []|2020-02-25 10:48:02|Tuesday|17.0|      0|\n",
            "|         32.059834|         34.772457|         0|        []|2020-02-25 10:48:02|Tuesday|17.0|      0|\n",
            "|         32.120495|           34.7926|         0|        []|2020-02-25 10:48:02|Tuesday|17.0|      0|\n",
            "|           32.0698|           34.7913|         1|     [159]|2020-02-25 10:48:02|Tuesday|17.0|      1|\n",
            "|          32.06879|34.796904999999995|         1|     [107]|2020-02-25 10:48:02|Tuesday|17.0|      1|\n",
            "|         32.061717| 34.76710300000001|         1|     [152]|2020-02-25 10:48:02|Tuesday|17.0|      1|\n",
            "|         32.095042|         34.792425|         2|[227, 243]|2020-02-25 10:48:02|Tuesday|17.0|      2|\n",
            "|         32.111344|34.801714000000004|         2|[246, 272]|2020-02-25 10:48:02|Tuesday|17.0|      2|\n",
            "+------------------+------------------+----------+----------+-------------------+-------+----+-------+\n",
            "only showing top 20 rows\n",
            "\n"
          ]
        }
      ]
    },
    {
      "cell_type": "code",
      "source": [],
      "metadata": {
        "id": "y3vbXLHTNn3Z"
      },
      "execution_count": null,
      "outputs": []
    },
    {
      "cell_type": "code",
      "source": [],
      "metadata": {
        "id": "-bE94a5iNtKU"
      },
      "execution_count": null,
      "outputs": []
    },
    {
      "cell_type": "markdown",
      "source": [
        "## Print locations which has more than a certain number of cars"
      ],
      "metadata": {
        "id": "GEwhoO2oNtjy"
      }
    },
    {
      "cell_type": "code",
      "source": [
        "## Use the filter attribute\n",
        "df_spark_temp.filter(\"total_cars>=5\").select(['latitude', 'longitude', 'weekday', 'temp']).show()"
      ],
      "metadata": {
        "colab": {
          "base_uri": "https://localhost:8080/"
        },
        "id": "bFwlCZBmNyDj",
        "outputId": "0501d3d1-fe84-4c46-d4c1-2b195a37eff7"
      },
      "execution_count": null,
      "outputs": [
        {
          "output_type": "stream",
          "name": "stdout",
          "text": [
            "+---------+---------+-------+----+\n",
            "| latitude|longitude|weekday|temp|\n",
            "+---------+---------+-------+----+\n",
            "|  32.1034|  34.8059|Tuesday|17.0|\n",
            "|  32.0849|  34.7966|Tuesday|16.9|\n",
            "|  32.0849|  34.7966|Tuesday|37.9|\n",
            "|  32.0849|  34.7966|Tuesday|37.0|\n",
            "|  32.0849|  34.7966|Tuesday|37.0|\n",
            "|  32.0849|  34.7966|Tuesday|37.0|\n",
            "|  32.0849|  34.7966|Tuesday|37.0|\n",
            "|  32.0849|  34.7966|Tuesday|37.9|\n",
            "|  32.0849|  34.7966|Tuesday|37.0|\n",
            "|  32.0849|  34.7966|Tuesday|37.0|\n",
            "|  32.0849|  34.7966|Tuesday|37.9|\n",
            "|  32.0849|  34.7966|Tuesday|37.9|\n",
            "|32.111506|34.840876|Tuesday|37.9|\n",
            "|32.111506|34.840876|Tuesday|38.0|\n",
            "|  32.0849|  34.7966|Tuesday|37.9|\n",
            "|  32.0849|  34.7966|Tuesday|37.9|\n",
            "|32.111506|34.840876|Tuesday|37.9|\n",
            "|  32.0849|  34.7966|Tuesday|37.0|\n",
            "|  32.0849|  34.7966|Tuesday|37.9|\n",
            "|32.111506|34.840876|Tuesday|37.9|\n",
            "+---------+---------+-------+----+\n",
            "only showing top 20 rows\n",
            "\n"
          ]
        }
      ]
    },
    {
      "cell_type": "markdown",
      "source": [
        "# Select a certain temprature and see the total number of cars available, select a certain day and see the total number of cars available on that day"
      ],
      "metadata": {
        "id": "oADHRxi4OUsM"
      }
    },
    {
      "cell_type": "markdown",
      "source": [
        "Grouping by weekday"
      ],
      "metadata": {
        "id": "1cbl48mkQbYM"
      }
    },
    {
      "cell_type": "code",
      "source": [
        "df_spark_temp.groupBy('weekday').sum('total_cars').show()"
      ],
      "metadata": {
        "colab": {
          "base_uri": "https://localhost:8080/"
        },
        "id": "G_0rpvf2OUWU",
        "outputId": "1b2508af-408d-4024-99a6-7ae417cc95ab"
      },
      "execution_count": null,
      "outputs": [
        {
          "output_type": "stream",
          "name": "stdout",
          "text": [
            "+---------+---------------+\n",
            "|  weekday|sum(total_cars)|\n",
            "+---------+---------------+\n",
            "|  Tuesday|        1953032|\n",
            "|   Friday|        1825056|\n",
            "| Thursday|        1635504|\n",
            "| Saturday|        1849621|\n",
            "|   Monday|        2133532|\n",
            "|   Sunday|        1603988|\n",
            "|Wednesday|        1836809|\n",
            "+---------+---------------+\n",
            "\n"
          ]
        }
      ]
    },
    {
      "cell_type": "markdown",
      "source": [
        "From this above analysis we can say that On Wednesday, the availability of cars is lowest while on tuesday the availability of cars is highest"
      ],
      "metadata": {
        "id": "yYPLyGDLRaN1"
      }
    },
    {
      "cell_type": "code",
      "source": [],
      "metadata": {
        "id": "OQ8Ah5GrRW5z"
      },
      "execution_count": null,
      "outputs": []
    },
    {
      "cell_type": "markdown",
      "source": [
        "Grouping by location"
      ],
      "metadata": {
        "id": "53pg1CNGQdu-"
      }
    },
    {
      "cell_type": "code",
      "source": [
        "df_spark_temp.groupBy('latitude', 'longitude').sum('total_cars')"
      ],
      "metadata": {
        "colab": {
          "base_uri": "https://localhost:8080/"
        },
        "id": "qkRrs_oPOSpv",
        "outputId": "5edd32fa-fd74-4de4-a1ff-f5902c01a276"
      },
      "execution_count": null,
      "outputs": [
        {
          "output_type": "execute_result",
          "data": {
            "text/plain": [
              "DataFrame[latitude: double, longitude: double, sum(total_cars): bigint]"
            ]
          },
          "metadata": {},
          "execution_count": 61
        }
      ]
    },
    {
      "cell_type": "markdown",
      "source": [
        "Grouping by Temperature"
      ],
      "metadata": {
        "id": "Pkz3acs_Qmbb"
      }
    },
    {
      "cell_type": "code",
      "source": [
        "df_spark_temp.groupBy('temp').sum('total_cars')"
      ],
      "metadata": {
        "colab": {
          "base_uri": "https://localhost:8080/"
        },
        "id": "JQE6OvXBQp1h",
        "outputId": "30cf7440-9bd7-4fc3-e1e8-695bbb143f61"
      },
      "execution_count": null,
      "outputs": [
        {
          "output_type": "execute_result",
          "data": {
            "text/plain": [
              "DataFrame[temp: string, sum(total_cars): bigint]"
            ]
          },
          "metadata": {},
          "execution_count": 56
        }
      ]
    },
    {
      "cell_type": "markdown",
      "source": [
        "## Predicting Total number of cars in a given location at a given day"
      ],
      "metadata": {
        "id": "gwCfLz2pZhpe"
      }
    },
    {
      "cell_type": "code",
      "source": [
        "from pyspark.ml.feature import VectorAssembler"
      ],
      "metadata": {
        "id": "KrbCSOmbairq"
      },
      "execution_count": null,
      "outputs": []
    },
    {
      "cell_type": "code",
      "source": [
        "featureAssembler = VectorAssembler(inputCols = [\"latitude\", \"longitude\"], outputCol=\"location\")"
      ],
      "metadata": {
        "id": "l8mv1pRPan95"
      },
      "execution_count": null,
      "outputs": []
    },
    {
      "cell_type": "code",
      "source": [
        "new_df_spark = featureAssembler.transform(df_spark_temp)"
      ],
      "metadata": {
        "id": "VGgIXekHa6m6"
      },
      "execution_count": null,
      "outputs": []
    },
    {
      "cell_type": "code",
      "source": [],
      "metadata": {
        "id": "k1vgWweubIwS"
      },
      "execution_count": null,
      "outputs": []
    },
    {
      "cell_type": "code",
      "source": [],
      "metadata": {
        "id": "D3rvPxXUbLyt"
      },
      "execution_count": null,
      "outputs": []
    }
  ]
}